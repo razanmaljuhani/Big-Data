{
 "cells": [
  {
   "cell_type": "markdown",
   "metadata": {
    "id": "ublbUGGBOPU1"
   },
   "source": [
    "\n",
    "## Case Study PCA\n",
    "### Solved by: Razan Aljuhani , Alaa Alharbi , Wejdan Alzahrani , Lena Baeshen - Section: BAR\n",
    "\n",
    "-----------------------------\n",
    "## Context:\n",
    "-----------------------------\n",
    "In this case study, we will use the Education dataset which contains information on educational institutes in USA. The data has various attributes about number of applications received, enrollments, faculty education, financial aspects and graduation rate of each institute. \n",
    "\n",
    "-----------------------------\n",
    "## Objective: \n",
    "-----------------------------\n",
    "The objective of this problem is to reduce the number of features by using dimensionality reduction techniques like PCA and extract insights. \n",
    "\n",
    "-----------------------------\n",
    "## Dataset: \n",
    "-----------------------------\n",
    "\n",
    "The Education dataset contains information on various colleges in USA. It contains the following information:\n",
    "\n",
    "- Names: Names of various universities and colleges\n",
    "- Apps: Number of applications received\n",
    "- Accept: Number of applications accepted\n",
    "- Enroll: Number of new students enrolled\n",
    "- Top10perc: Percentage of new students from top 10% of Higher Secondary class\n",
    "- Top25perc: Percentage of new students from top 25% of Higher Secondary class\n",
    "- F_Undergrad: Number of full-time undergraduate students\n",
    "- P_Undergrad: Number of part-time undergraduate students\n",
    "- Outstate: Number of students for whom the particular college or university is out-of-state tuition\n",
    "- Room_Board: Cost of room and board\n",
    "- Books: Estimated book costs for a student\n",
    "- Personal: Estimated personal spending for a student\n",
    "- PhD: Percentage of faculties with a Ph.D.\n",
    "- Terminal: Percentage of faculties with terminal degree\n",
    "- S_F_Ratio: Student/faculty ratio\n",
    "- perc_alumni: Percentage of alumni who donate\n",
    "- Expend: The instructional expenditure per student\n",
    "- Grad_Rate: Graduation rate"
   ]
  },
  {
   "cell_type": "markdown",
   "metadata": {
    "id": "--TM2FWEOPU4"
   },
   "source": [
    "## Importing libraries and overview of the dataset"
   ]
  },
  {
   "cell_type": "code",
   "execution_count": 21,
   "metadata": {
    "id": "WK1odb70OPU4"
   },
   "outputs": [],
   "source": [
    "import pandas as pd\n",
    "import numpy as np\n",
    "import matplotlib.pyplot as plt\n",
    "import seaborn as sns\n",
    "\n",
    "#to scale the data using z-score \n",
    "from sklearn.preprocessing import StandardScaler\n",
    "\n",
    "#Importing PCA\n",
    "from sklearn.decomposition import PCA"
   ]
  },
  {
   "cell_type": "markdown",
   "metadata": {
    "id": "vs1MY6T_OPU5"
   },
   "source": [
    "#### Loading data and print head"
   ]
  },
  {
   "cell_type": "code",
   "execution_count": 22,
   "metadata": {
    "id": "d9pyxhRkOPU5"
   },
   "outputs": [],
   "source": [
    "data = pd.read_csv('Education_Post_12th_Standard.csv')"
   ]
  },
  {
   "cell_type": "code",
   "execution_count": 23,
   "metadata": {
    "id": "WXDs3HgqOPU5",
    "outputId": "40bf3d7a-1928-4ccf-d40f-a5a87be09ef9"
   },
   "outputs": [
    {
     "data": {
      "text/html": [
       "<div>\n",
       "<style scoped>\n",
       "    .dataframe tbody tr th:only-of-type {\n",
       "        vertical-align: middle;\n",
       "    }\n",
       "\n",
       "    .dataframe tbody tr th {\n",
       "        vertical-align: top;\n",
       "    }\n",
       "\n",
       "    .dataframe thead th {\n",
       "        text-align: right;\n",
       "    }\n",
       "</style>\n",
       "<table border=\"1\" class=\"dataframe\">\n",
       "  <thead>\n",
       "    <tr style=\"text-align: right;\">\n",
       "      <th></th>\n",
       "      <th>Names</th>\n",
       "      <th>Apps</th>\n",
       "      <th>Accept</th>\n",
       "      <th>Enroll</th>\n",
       "      <th>Top10perc</th>\n",
       "      <th>Top25perc</th>\n",
       "      <th>F_Undergrad</th>\n",
       "      <th>P_Undergrad</th>\n",
       "      <th>Outstate</th>\n",
       "      <th>Room_Board</th>\n",
       "      <th>Books</th>\n",
       "      <th>Personal</th>\n",
       "      <th>PhD</th>\n",
       "      <th>Terminal</th>\n",
       "      <th>S_F_Ratio</th>\n",
       "      <th>perc_alumni</th>\n",
       "      <th>Expend</th>\n",
       "      <th>Grad_Rate</th>\n",
       "    </tr>\n",
       "  </thead>\n",
       "  <tbody>\n",
       "    <tr>\n",
       "      <th>0</th>\n",
       "      <td>Abilene Christian University</td>\n",
       "      <td>1660</td>\n",
       "      <td>1232</td>\n",
       "      <td>721</td>\n",
       "      <td>23</td>\n",
       "      <td>52</td>\n",
       "      <td>2885</td>\n",
       "      <td>537</td>\n",
       "      <td>7440</td>\n",
       "      <td>3300</td>\n",
       "      <td>450</td>\n",
       "      <td>2200</td>\n",
       "      <td>70</td>\n",
       "      <td>78</td>\n",
       "      <td>18.1</td>\n",
       "      <td>12</td>\n",
       "      <td>7041</td>\n",
       "      <td>60</td>\n",
       "    </tr>\n",
       "    <tr>\n",
       "      <th>1</th>\n",
       "      <td>Adelphi University</td>\n",
       "      <td>2186</td>\n",
       "      <td>1924</td>\n",
       "      <td>512</td>\n",
       "      <td>16</td>\n",
       "      <td>29</td>\n",
       "      <td>2683</td>\n",
       "      <td>1227</td>\n",
       "      <td>12280</td>\n",
       "      <td>6450</td>\n",
       "      <td>750</td>\n",
       "      <td>1500</td>\n",
       "      <td>29</td>\n",
       "      <td>30</td>\n",
       "      <td>12.2</td>\n",
       "      <td>16</td>\n",
       "      <td>10527</td>\n",
       "      <td>56</td>\n",
       "    </tr>\n",
       "    <tr>\n",
       "      <th>2</th>\n",
       "      <td>Adrian College</td>\n",
       "      <td>1428</td>\n",
       "      <td>1097</td>\n",
       "      <td>336</td>\n",
       "      <td>22</td>\n",
       "      <td>50</td>\n",
       "      <td>1036</td>\n",
       "      <td>99</td>\n",
       "      <td>11250</td>\n",
       "      <td>3750</td>\n",
       "      <td>400</td>\n",
       "      <td>1165</td>\n",
       "      <td>53</td>\n",
       "      <td>66</td>\n",
       "      <td>12.9</td>\n",
       "      <td>30</td>\n",
       "      <td>8735</td>\n",
       "      <td>54</td>\n",
       "    </tr>\n",
       "    <tr>\n",
       "      <th>3</th>\n",
       "      <td>Agnes Scott College</td>\n",
       "      <td>417</td>\n",
       "      <td>349</td>\n",
       "      <td>137</td>\n",
       "      <td>60</td>\n",
       "      <td>89</td>\n",
       "      <td>510</td>\n",
       "      <td>63</td>\n",
       "      <td>12960</td>\n",
       "      <td>5450</td>\n",
       "      <td>450</td>\n",
       "      <td>875</td>\n",
       "      <td>92</td>\n",
       "      <td>97</td>\n",
       "      <td>7.7</td>\n",
       "      <td>37</td>\n",
       "      <td>19016</td>\n",
       "      <td>59</td>\n",
       "    </tr>\n",
       "    <tr>\n",
       "      <th>4</th>\n",
       "      <td>Alaska Pacific University</td>\n",
       "      <td>193</td>\n",
       "      <td>146</td>\n",
       "      <td>55</td>\n",
       "      <td>16</td>\n",
       "      <td>44</td>\n",
       "      <td>249</td>\n",
       "      <td>869</td>\n",
       "      <td>7560</td>\n",
       "      <td>4120</td>\n",
       "      <td>800</td>\n",
       "      <td>1500</td>\n",
       "      <td>76</td>\n",
       "      <td>72</td>\n",
       "      <td>11.9</td>\n",
       "      <td>2</td>\n",
       "      <td>10922</td>\n",
       "      <td>15</td>\n",
       "    </tr>\n",
       "  </tbody>\n",
       "</table>\n",
       "</div>"
      ],
      "text/plain": [
       "                          Names  Apps  Accept  Enroll  Top10perc  Top25perc  \\\n",
       "0  Abilene Christian University  1660    1232     721         23         52   \n",
       "1            Adelphi University  2186    1924     512         16         29   \n",
       "2                Adrian College  1428    1097     336         22         50   \n",
       "3           Agnes Scott College   417     349     137         60         89   \n",
       "4     Alaska Pacific University   193     146      55         16         44   \n",
       "\n",
       "   F_Undergrad  P_Undergrad  Outstate  Room_Board  Books  Personal  PhD  \\\n",
       "0         2885          537      7440        3300    450      2200   70   \n",
       "1         2683         1227     12280        6450    750      1500   29   \n",
       "2         1036           99     11250        3750    400      1165   53   \n",
       "3          510           63     12960        5450    450       875   92   \n",
       "4          249          869      7560        4120    800      1500   76   \n",
       "\n",
       "   Terminal  S_F_Ratio  perc_alumni  Expend  Grad_Rate  \n",
       "0        78       18.1           12    7041         60  \n",
       "1        30       12.2           16   10527         56  \n",
       "2        66       12.9           30    8735         54  \n",
       "3        97        7.7           37   19016         59  \n",
       "4        72       11.9            2   10922         15  "
      ]
     },
     "execution_count": 23,
     "metadata": {},
     "output_type": "execute_result"
    }
   ],
   "source": [
    "data.head()"
   ]
  },
  {
   "cell_type": "markdown",
   "metadata": {
    "id": "CsHzFoepOPU6"
   },
   "source": [
    "#### Check the info of the data"
   ]
  },
  {
   "cell_type": "code",
   "execution_count": 24,
   "metadata": {
    "id": "RQip-RQ8OPU7",
    "outputId": "20acdb19-5a30-4c5d-b5e9-fa7234d66eea"
   },
   "outputs": [
    {
     "name": "stdout",
     "output_type": "stream",
     "text": [
      "<class 'pandas.core.frame.DataFrame'>\n",
      "RangeIndex: 777 entries, 0 to 776\n",
      "Data columns (total 18 columns):\n",
      " #   Column       Non-Null Count  Dtype  \n",
      "---  ------       --------------  -----  \n",
      " 0   Names        777 non-null    object \n",
      " 1   Apps         777 non-null    int64  \n",
      " 2   Accept       777 non-null    int64  \n",
      " 3   Enroll       777 non-null    int64  \n",
      " 4   Top10perc    777 non-null    int64  \n",
      " 5   Top25perc    777 non-null    int64  \n",
      " 6   F_Undergrad  777 non-null    int64  \n",
      " 7   P_Undergrad  777 non-null    int64  \n",
      " 8   Outstate     777 non-null    int64  \n",
      " 9   Room_Board   777 non-null    int64  \n",
      " 10  Books        777 non-null    int64  \n",
      " 11  Personal     777 non-null    int64  \n",
      " 12  PhD          777 non-null    int64  \n",
      " 13  Terminal     777 non-null    int64  \n",
      " 14  S_F_Ratio    777 non-null    float64\n",
      " 15  perc_alumni  777 non-null    int64  \n",
      " 16  Expend       777 non-null    int64  \n",
      " 17  Grad_Rate    777 non-null    int64  \n",
      "dtypes: float64(1), int64(16), object(1)\n",
      "memory usage: 109.4+ KB\n"
     ]
    }
   ],
   "source": [
    "data.info()"
   ]
  },
  {
   "cell_type": "markdown",
   "metadata": {},
   "source": [
    "#### Is there null data?\n",
    "* No"
   ]
  },
  {
   "cell_type": "markdown",
   "metadata": {},
   "source": []
  },
  {
   "cell_type": "markdown",
   "metadata": {
    "id": "EjyVmIjLOPU7"
   },
   "source": [
    "## Data Preprocessing and Exploratory Data Analysis"
   ]
  },
  {
   "cell_type": "markdown",
   "metadata": {
    "id": "-5j6cuToOPU8"
   },
   "source": [
    "#### Check if all the college names are unique"
   ]
  },
  {
   "cell_type": "code",
   "execution_count": 25,
   "metadata": {
    "id": "4Xw18kSVOPU8",
    "outputId": "6e2c208b-6db2-4aa0-b549-52ffab26aeec"
   },
   "outputs": [
    {
     "data": {
      "text/plain": [
       "777"
      ]
     },
     "execution_count": 25,
     "metadata": {},
     "output_type": "execute_result"
    }
   ],
   "source": [
    "data[\"Names\"].nunique()"
   ]
  },
  {
   "cell_type": "markdown",
   "metadata": {},
   "source": [
    "#### Are all college names unique?\n",
    "* Yes \n",
    "* Will the col be dropped? Yes, because the column 'Names' is object data type and containing unique entries and would not add values to our analysis."
   ]
  },
  {
   "cell_type": "markdown",
   "metadata": {
    "id": "zEbywvWQOPU8"
   },
   "source": []
  },
  {
   "cell_type": "code",
   "execution_count": 26,
   "metadata": {},
   "outputs": [
    {
     "data": {
      "text/html": [
       "<div>\n",
       "<style scoped>\n",
       "    .dataframe tbody tr th:only-of-type {\n",
       "        vertical-align: middle;\n",
       "    }\n",
       "\n",
       "    .dataframe tbody tr th {\n",
       "        vertical-align: top;\n",
       "    }\n",
       "\n",
       "    .dataframe thead th {\n",
       "        text-align: right;\n",
       "    }\n",
       "</style>\n",
       "<table border=\"1\" class=\"dataframe\">\n",
       "  <thead>\n",
       "    <tr style=\"text-align: right;\">\n",
       "      <th></th>\n",
       "      <th>Apps</th>\n",
       "      <th>Accept</th>\n",
       "      <th>Enroll</th>\n",
       "      <th>Top10perc</th>\n",
       "      <th>Top25perc</th>\n",
       "      <th>F_Undergrad</th>\n",
       "      <th>P_Undergrad</th>\n",
       "      <th>Outstate</th>\n",
       "      <th>Room_Board</th>\n",
       "      <th>Books</th>\n",
       "      <th>Personal</th>\n",
       "      <th>PhD</th>\n",
       "      <th>Terminal</th>\n",
       "      <th>S_F_Ratio</th>\n",
       "      <th>perc_alumni</th>\n",
       "      <th>Expend</th>\n",
       "      <th>Grad_Rate</th>\n",
       "    </tr>\n",
       "  </thead>\n",
       "  <tbody>\n",
       "    <tr>\n",
       "      <th>0</th>\n",
       "      <td>1660</td>\n",
       "      <td>1232</td>\n",
       "      <td>721</td>\n",
       "      <td>23</td>\n",
       "      <td>52</td>\n",
       "      <td>2885</td>\n",
       "      <td>537</td>\n",
       "      <td>7440</td>\n",
       "      <td>3300</td>\n",
       "      <td>450</td>\n",
       "      <td>2200</td>\n",
       "      <td>70</td>\n",
       "      <td>78</td>\n",
       "      <td>18.1</td>\n",
       "      <td>12</td>\n",
       "      <td>7041</td>\n",
       "      <td>60</td>\n",
       "    </tr>\n",
       "    <tr>\n",
       "      <th>1</th>\n",
       "      <td>2186</td>\n",
       "      <td>1924</td>\n",
       "      <td>512</td>\n",
       "      <td>16</td>\n",
       "      <td>29</td>\n",
       "      <td>2683</td>\n",
       "      <td>1227</td>\n",
       "      <td>12280</td>\n",
       "      <td>6450</td>\n",
       "      <td>750</td>\n",
       "      <td>1500</td>\n",
       "      <td>29</td>\n",
       "      <td>30</td>\n",
       "      <td>12.2</td>\n",
       "      <td>16</td>\n",
       "      <td>10527</td>\n",
       "      <td>56</td>\n",
       "    </tr>\n",
       "    <tr>\n",
       "      <th>2</th>\n",
       "      <td>1428</td>\n",
       "      <td>1097</td>\n",
       "      <td>336</td>\n",
       "      <td>22</td>\n",
       "      <td>50</td>\n",
       "      <td>1036</td>\n",
       "      <td>99</td>\n",
       "      <td>11250</td>\n",
       "      <td>3750</td>\n",
       "      <td>400</td>\n",
       "      <td>1165</td>\n",
       "      <td>53</td>\n",
       "      <td>66</td>\n",
       "      <td>12.9</td>\n",
       "      <td>30</td>\n",
       "      <td>8735</td>\n",
       "      <td>54</td>\n",
       "    </tr>\n",
       "    <tr>\n",
       "      <th>3</th>\n",
       "      <td>417</td>\n",
       "      <td>349</td>\n",
       "      <td>137</td>\n",
       "      <td>60</td>\n",
       "      <td>89</td>\n",
       "      <td>510</td>\n",
       "      <td>63</td>\n",
       "      <td>12960</td>\n",
       "      <td>5450</td>\n",
       "      <td>450</td>\n",
       "      <td>875</td>\n",
       "      <td>92</td>\n",
       "      <td>97</td>\n",
       "      <td>7.7</td>\n",
       "      <td>37</td>\n",
       "      <td>19016</td>\n",
       "      <td>59</td>\n",
       "    </tr>\n",
       "    <tr>\n",
       "      <th>4</th>\n",
       "      <td>193</td>\n",
       "      <td>146</td>\n",
       "      <td>55</td>\n",
       "      <td>16</td>\n",
       "      <td>44</td>\n",
       "      <td>249</td>\n",
       "      <td>869</td>\n",
       "      <td>7560</td>\n",
       "      <td>4120</td>\n",
       "      <td>800</td>\n",
       "      <td>1500</td>\n",
       "      <td>76</td>\n",
       "      <td>72</td>\n",
       "      <td>11.9</td>\n",
       "      <td>2</td>\n",
       "      <td>10922</td>\n",
       "      <td>15</td>\n",
       "    </tr>\n",
       "  </tbody>\n",
       "</table>\n",
       "</div>"
      ],
      "text/plain": [
       "   Apps  Accept  Enroll  Top10perc  Top25perc  F_Undergrad  P_Undergrad  \\\n",
       "0  1660    1232     721         23         52         2885          537   \n",
       "1  2186    1924     512         16         29         2683         1227   \n",
       "2  1428    1097     336         22         50         1036           99   \n",
       "3   417     349     137         60         89          510           63   \n",
       "4   193     146      55         16         44          249          869   \n",
       "\n",
       "   Outstate  Room_Board  Books  Personal  PhD  Terminal  S_F_Ratio  \\\n",
       "0      7440        3300    450      2200   70        78       18.1   \n",
       "1     12280        6450    750      1500   29        30       12.2   \n",
       "2     11250        3750    400      1165   53        66       12.9   \n",
       "3     12960        5450    450       875   92        97        7.7   \n",
       "4      7560        4120    800      1500   76        72       11.9   \n",
       "\n",
       "   perc_alumni  Expend  Grad_Rate  \n",
       "0           12    7041         60  \n",
       "1           16   10527         56  \n",
       "2           30    8735         54  \n",
       "3           37   19016         59  \n",
       "4            2   10922         15  "
      ]
     },
     "execution_count": 26,
     "metadata": {},
     "output_type": "execute_result"
    }
   ],
   "source": [
    "# dropping column Names\n",
    "data1 = data.copy()\n",
    "data = data.drop(['Names'], axis=1)\n",
    "data.head()"
   ]
  },
  {
   "cell_type": "markdown",
   "metadata": {
    "id": "qj_i7NdvOPU9"
   },
   "source": [
    "#### Summary Statistics"
   ]
  },
  {
   "cell_type": "code",
   "execution_count": 27,
   "metadata": {
    "id": "dMFv9DOCOPU9",
    "outputId": "7e484d8f-d3d8-47a3-aad5-6d807b4d07e6"
   },
   "outputs": [
    {
     "data": {
      "text/html": [
       "<div>\n",
       "<style scoped>\n",
       "    .dataframe tbody tr th:only-of-type {\n",
       "        vertical-align: middle;\n",
       "    }\n",
       "\n",
       "    .dataframe tbody tr th {\n",
       "        vertical-align: top;\n",
       "    }\n",
       "\n",
       "    .dataframe thead th {\n",
       "        text-align: right;\n",
       "    }\n",
       "</style>\n",
       "<table border=\"1\" class=\"dataframe\">\n",
       "  <thead>\n",
       "    <tr style=\"text-align: right;\">\n",
       "      <th></th>\n",
       "      <th>count</th>\n",
       "      <th>mean</th>\n",
       "      <th>std</th>\n",
       "      <th>min</th>\n",
       "      <th>25%</th>\n",
       "      <th>50%</th>\n",
       "      <th>75%</th>\n",
       "      <th>max</th>\n",
       "    </tr>\n",
       "  </thead>\n",
       "  <tbody>\n",
       "    <tr>\n",
       "      <th>Apps</th>\n",
       "      <td>777.0</td>\n",
       "      <td>3001.638353</td>\n",
       "      <td>3870.201484</td>\n",
       "      <td>81.0</td>\n",
       "      <td>776.0</td>\n",
       "      <td>1558.0</td>\n",
       "      <td>3624.0</td>\n",
       "      <td>48094.0</td>\n",
       "    </tr>\n",
       "    <tr>\n",
       "      <th>Accept</th>\n",
       "      <td>777.0</td>\n",
       "      <td>2018.804376</td>\n",
       "      <td>2451.113971</td>\n",
       "      <td>72.0</td>\n",
       "      <td>604.0</td>\n",
       "      <td>1110.0</td>\n",
       "      <td>2424.0</td>\n",
       "      <td>26330.0</td>\n",
       "    </tr>\n",
       "    <tr>\n",
       "      <th>Enroll</th>\n",
       "      <td>777.0</td>\n",
       "      <td>779.972973</td>\n",
       "      <td>929.176190</td>\n",
       "      <td>35.0</td>\n",
       "      <td>242.0</td>\n",
       "      <td>434.0</td>\n",
       "      <td>902.0</td>\n",
       "      <td>6392.0</td>\n",
       "    </tr>\n",
       "    <tr>\n",
       "      <th>Top10perc</th>\n",
       "      <td>777.0</td>\n",
       "      <td>27.558559</td>\n",
       "      <td>17.640364</td>\n",
       "      <td>1.0</td>\n",
       "      <td>15.0</td>\n",
       "      <td>23.0</td>\n",
       "      <td>35.0</td>\n",
       "      <td>96.0</td>\n",
       "    </tr>\n",
       "    <tr>\n",
       "      <th>Top25perc</th>\n",
       "      <td>777.0</td>\n",
       "      <td>55.796654</td>\n",
       "      <td>19.804778</td>\n",
       "      <td>9.0</td>\n",
       "      <td>41.0</td>\n",
       "      <td>54.0</td>\n",
       "      <td>69.0</td>\n",
       "      <td>100.0</td>\n",
       "    </tr>\n",
       "    <tr>\n",
       "      <th>F_Undergrad</th>\n",
       "      <td>777.0</td>\n",
       "      <td>3699.907336</td>\n",
       "      <td>4850.420531</td>\n",
       "      <td>139.0</td>\n",
       "      <td>992.0</td>\n",
       "      <td>1707.0</td>\n",
       "      <td>4005.0</td>\n",
       "      <td>31643.0</td>\n",
       "    </tr>\n",
       "    <tr>\n",
       "      <th>P_Undergrad</th>\n",
       "      <td>777.0</td>\n",
       "      <td>855.298584</td>\n",
       "      <td>1522.431887</td>\n",
       "      <td>1.0</td>\n",
       "      <td>95.0</td>\n",
       "      <td>353.0</td>\n",
       "      <td>967.0</td>\n",
       "      <td>21836.0</td>\n",
       "    </tr>\n",
       "    <tr>\n",
       "      <th>Outstate</th>\n",
       "      <td>777.0</td>\n",
       "      <td>10440.669241</td>\n",
       "      <td>4023.016484</td>\n",
       "      <td>2340.0</td>\n",
       "      <td>7320.0</td>\n",
       "      <td>9990.0</td>\n",
       "      <td>12925.0</td>\n",
       "      <td>21700.0</td>\n",
       "    </tr>\n",
       "    <tr>\n",
       "      <th>Room_Board</th>\n",
       "      <td>777.0</td>\n",
       "      <td>4357.526384</td>\n",
       "      <td>1096.696416</td>\n",
       "      <td>1780.0</td>\n",
       "      <td>3597.0</td>\n",
       "      <td>4200.0</td>\n",
       "      <td>5050.0</td>\n",
       "      <td>8124.0</td>\n",
       "    </tr>\n",
       "    <tr>\n",
       "      <th>Books</th>\n",
       "      <td>777.0</td>\n",
       "      <td>549.380952</td>\n",
       "      <td>165.105360</td>\n",
       "      <td>96.0</td>\n",
       "      <td>470.0</td>\n",
       "      <td>500.0</td>\n",
       "      <td>600.0</td>\n",
       "      <td>2340.0</td>\n",
       "    </tr>\n",
       "    <tr>\n",
       "      <th>Personal</th>\n",
       "      <td>777.0</td>\n",
       "      <td>1340.642214</td>\n",
       "      <td>677.071454</td>\n",
       "      <td>250.0</td>\n",
       "      <td>850.0</td>\n",
       "      <td>1200.0</td>\n",
       "      <td>1700.0</td>\n",
       "      <td>6800.0</td>\n",
       "    </tr>\n",
       "    <tr>\n",
       "      <th>PhD</th>\n",
       "      <td>777.0</td>\n",
       "      <td>72.660232</td>\n",
       "      <td>16.328155</td>\n",
       "      <td>8.0</td>\n",
       "      <td>62.0</td>\n",
       "      <td>75.0</td>\n",
       "      <td>85.0</td>\n",
       "      <td>103.0</td>\n",
       "    </tr>\n",
       "    <tr>\n",
       "      <th>Terminal</th>\n",
       "      <td>777.0</td>\n",
       "      <td>79.702703</td>\n",
       "      <td>14.722359</td>\n",
       "      <td>24.0</td>\n",
       "      <td>71.0</td>\n",
       "      <td>82.0</td>\n",
       "      <td>92.0</td>\n",
       "      <td>100.0</td>\n",
       "    </tr>\n",
       "    <tr>\n",
       "      <th>S_F_Ratio</th>\n",
       "      <td>777.0</td>\n",
       "      <td>14.089704</td>\n",
       "      <td>3.958349</td>\n",
       "      <td>2.5</td>\n",
       "      <td>11.5</td>\n",
       "      <td>13.6</td>\n",
       "      <td>16.5</td>\n",
       "      <td>39.8</td>\n",
       "    </tr>\n",
       "    <tr>\n",
       "      <th>perc_alumni</th>\n",
       "      <td>777.0</td>\n",
       "      <td>22.743887</td>\n",
       "      <td>12.391801</td>\n",
       "      <td>0.0</td>\n",
       "      <td>13.0</td>\n",
       "      <td>21.0</td>\n",
       "      <td>31.0</td>\n",
       "      <td>64.0</td>\n",
       "    </tr>\n",
       "    <tr>\n",
       "      <th>Expend</th>\n",
       "      <td>777.0</td>\n",
       "      <td>9660.171171</td>\n",
       "      <td>5221.768440</td>\n",
       "      <td>3186.0</td>\n",
       "      <td>6751.0</td>\n",
       "      <td>8377.0</td>\n",
       "      <td>10830.0</td>\n",
       "      <td>56233.0</td>\n",
       "    </tr>\n",
       "    <tr>\n",
       "      <th>Grad_Rate</th>\n",
       "      <td>777.0</td>\n",
       "      <td>65.463320</td>\n",
       "      <td>17.177710</td>\n",
       "      <td>10.0</td>\n",
       "      <td>53.0</td>\n",
       "      <td>65.0</td>\n",
       "      <td>78.0</td>\n",
       "      <td>118.0</td>\n",
       "    </tr>\n",
       "  </tbody>\n",
       "</table>\n",
       "</div>"
      ],
      "text/plain": [
       "             count          mean          std     min     25%     50%  \\\n",
       "Apps         777.0   3001.638353  3870.201484    81.0   776.0  1558.0   \n",
       "Accept       777.0   2018.804376  2451.113971    72.0   604.0  1110.0   \n",
       "Enroll       777.0    779.972973   929.176190    35.0   242.0   434.0   \n",
       "Top10perc    777.0     27.558559    17.640364     1.0    15.0    23.0   \n",
       "Top25perc    777.0     55.796654    19.804778     9.0    41.0    54.0   \n",
       "F_Undergrad  777.0   3699.907336  4850.420531   139.0   992.0  1707.0   \n",
       "P_Undergrad  777.0    855.298584  1522.431887     1.0    95.0   353.0   \n",
       "Outstate     777.0  10440.669241  4023.016484  2340.0  7320.0  9990.0   \n",
       "Room_Board   777.0   4357.526384  1096.696416  1780.0  3597.0  4200.0   \n",
       "Books        777.0    549.380952   165.105360    96.0   470.0   500.0   \n",
       "Personal     777.0   1340.642214   677.071454   250.0   850.0  1200.0   \n",
       "PhD          777.0     72.660232    16.328155     8.0    62.0    75.0   \n",
       "Terminal     777.0     79.702703    14.722359    24.0    71.0    82.0   \n",
       "S_F_Ratio    777.0     14.089704     3.958349     2.5    11.5    13.6   \n",
       "perc_alumni  777.0     22.743887    12.391801     0.0    13.0    21.0   \n",
       "Expend       777.0   9660.171171  5221.768440  3186.0  6751.0  8377.0   \n",
       "Grad_Rate    777.0     65.463320    17.177710    10.0    53.0    65.0   \n",
       "\n",
       "                 75%      max  \n",
       "Apps          3624.0  48094.0  \n",
       "Accept        2424.0  26330.0  \n",
       "Enroll         902.0   6392.0  \n",
       "Top10perc       35.0     96.0  \n",
       "Top25perc       69.0    100.0  \n",
       "F_Undergrad   4005.0  31643.0  \n",
       "P_Undergrad    967.0  21836.0  \n",
       "Outstate     12925.0  21700.0  \n",
       "Room_Board    5050.0   8124.0  \n",
       "Books          600.0   2340.0  \n",
       "Personal      1700.0   6800.0  \n",
       "PhD             85.0    103.0  \n",
       "Terminal        92.0    100.0  \n",
       "S_F_Ratio       16.5     39.8  \n",
       "perc_alumni     31.0     64.0  \n",
       "Expend       10830.0  56233.0  \n",
       "Grad_Rate       78.0    118.0  "
      ]
     },
     "execution_count": 27,
     "metadata": {},
     "output_type": "execute_result"
    }
   ],
   "source": [
    "data.describe().T"
   ]
  },
  {
   "cell_type": "markdown",
   "metadata": {},
   "source": [
    "#### Check the rows that contain PhD>100 or Grad_Rate>100 "
   ]
  },
  {
   "cell_type": "code",
   "execution_count": 28,
   "metadata": {
    "id": "uIzvCOJrOPU-",
    "outputId": "9f661fc7-dc63-4c74-deed-75a0740dae26"
   },
   "outputs": [
    {
     "data": {
      "text/html": [
       "<div>\n",
       "<style scoped>\n",
       "    .dataframe tbody tr th:only-of-type {\n",
       "        vertical-align: middle;\n",
       "    }\n",
       "\n",
       "    .dataframe tbody tr th {\n",
       "        vertical-align: top;\n",
       "    }\n",
       "\n",
       "    .dataframe thead th {\n",
       "        text-align: right;\n",
       "    }\n",
       "</style>\n",
       "<table border=\"1\" class=\"dataframe\">\n",
       "  <thead>\n",
       "    <tr style=\"text-align: right;\">\n",
       "      <th></th>\n",
       "      <th>Apps</th>\n",
       "      <th>Accept</th>\n",
       "      <th>Enroll</th>\n",
       "      <th>Top10perc</th>\n",
       "      <th>Top25perc</th>\n",
       "      <th>F_Undergrad</th>\n",
       "      <th>P_Undergrad</th>\n",
       "      <th>Outstate</th>\n",
       "      <th>Room_Board</th>\n",
       "      <th>Books</th>\n",
       "      <th>Personal</th>\n",
       "      <th>PhD</th>\n",
       "      <th>Terminal</th>\n",
       "      <th>S_F_Ratio</th>\n",
       "      <th>perc_alumni</th>\n",
       "      <th>Expend</th>\n",
       "      <th>Grad_Rate</th>\n",
       "    </tr>\n",
       "  </thead>\n",
       "  <tbody>\n",
       "    <tr>\n",
       "      <th>95</th>\n",
       "      <td>3847</td>\n",
       "      <td>3433</td>\n",
       "      <td>527</td>\n",
       "      <td>9</td>\n",
       "      <td>35</td>\n",
       "      <td>1010</td>\n",
       "      <td>12</td>\n",
       "      <td>9384</td>\n",
       "      <td>4840</td>\n",
       "      <td>600</td>\n",
       "      <td>500</td>\n",
       "      <td>22</td>\n",
       "      <td>47</td>\n",
       "      <td>14.3</td>\n",
       "      <td>20</td>\n",
       "      <td>7697</td>\n",
       "      <td>118</td>\n",
       "    </tr>\n",
       "    <tr>\n",
       "      <th>582</th>\n",
       "      <td>529</td>\n",
       "      <td>481</td>\n",
       "      <td>243</td>\n",
       "      <td>22</td>\n",
       "      <td>47</td>\n",
       "      <td>1206</td>\n",
       "      <td>134</td>\n",
       "      <td>4860</td>\n",
       "      <td>3122</td>\n",
       "      <td>600</td>\n",
       "      <td>650</td>\n",
       "      <td>103</td>\n",
       "      <td>88</td>\n",
       "      <td>17.4</td>\n",
       "      <td>16</td>\n",
       "      <td>6415</td>\n",
       "      <td>43</td>\n",
       "    </tr>\n",
       "  </tbody>\n",
       "</table>\n",
       "</div>"
      ],
      "text/plain": [
       "     Apps  Accept  Enroll  Top10perc  Top25perc  F_Undergrad  P_Undergrad  \\\n",
       "95   3847    3433     527          9         35         1010           12   \n",
       "582   529     481     243         22         47         1206          134   \n",
       "\n",
       "     Outstate  Room_Board  Books  Personal  PhD  Terminal  S_F_Ratio  \\\n",
       "95       9384        4840    600       500   22        47       14.3   \n",
       "582      4860        3122    600       650  103        88       17.4   \n",
       "\n",
       "     perc_alumni  Expend  Grad_Rate  \n",
       "95            20    7697        118  \n",
       "582           16    6415         43  "
      ]
     },
     "execution_count": 28,
     "metadata": {},
     "output_type": "execute_result"
    }
   ],
   "source": [
    "#Check the rows that contain PhD>100 or Grad_Rate > 100\n",
    "result_PhD = pd.DataFrame(data.PhD > 100)\n",
    "result_Grad_Rate = pd.DataFrame(data.Grad_Rate > 100)\n",
    "data[(result_PhD['PhD'] == True) | (result_Grad_Rate['Grad_Rate'] == True)]"
   ]
  },
  {
   "cell_type": "markdown",
   "metadata": {
    "id": "Gp528sd8OPU_"
   },
   "source": [
    "#### Replace these 2 cpecific cells with 100 in the wrong value."
   ]
  },
  {
   "cell_type": "code",
   "execution_count": 29,
   "metadata": {
    "id": "CuSEHJv3OPU_"
   },
   "outputs": [
    {
     "data": {
      "text/html": [
       "<div>\n",
       "<style scoped>\n",
       "    .dataframe tbody tr th:only-of-type {\n",
       "        vertical-align: middle;\n",
       "    }\n",
       "\n",
       "    .dataframe tbody tr th {\n",
       "        vertical-align: top;\n",
       "    }\n",
       "\n",
       "    .dataframe thead th {\n",
       "        text-align: right;\n",
       "    }\n",
       "</style>\n",
       "<table border=\"1\" class=\"dataframe\">\n",
       "  <thead>\n",
       "    <tr style=\"text-align: right;\">\n",
       "      <th></th>\n",
       "      <th>Apps</th>\n",
       "      <th>Accept</th>\n",
       "      <th>Enroll</th>\n",
       "      <th>Top10perc</th>\n",
       "      <th>Top25perc</th>\n",
       "      <th>F_Undergrad</th>\n",
       "      <th>P_Undergrad</th>\n",
       "      <th>Outstate</th>\n",
       "      <th>Room_Board</th>\n",
       "      <th>Books</th>\n",
       "      <th>Personal</th>\n",
       "      <th>PhD</th>\n",
       "      <th>Terminal</th>\n",
       "      <th>S_F_Ratio</th>\n",
       "      <th>perc_alumni</th>\n",
       "      <th>Expend</th>\n",
       "      <th>Grad_Rate</th>\n",
       "    </tr>\n",
       "  </thead>\n",
       "  <tbody>\n",
       "    <tr>\n",
       "      <th>95</th>\n",
       "      <td>3847</td>\n",
       "      <td>3433</td>\n",
       "      <td>527</td>\n",
       "      <td>9</td>\n",
       "      <td>35</td>\n",
       "      <td>1010</td>\n",
       "      <td>12</td>\n",
       "      <td>9384</td>\n",
       "      <td>4840</td>\n",
       "      <td>600</td>\n",
       "      <td>500</td>\n",
       "      <td>22</td>\n",
       "      <td>47</td>\n",
       "      <td>14.3</td>\n",
       "      <td>20</td>\n",
       "      <td>7697</td>\n",
       "      <td>100</td>\n",
       "    </tr>\n",
       "    <tr>\n",
       "      <th>582</th>\n",
       "      <td>529</td>\n",
       "      <td>481</td>\n",
       "      <td>243</td>\n",
       "      <td>22</td>\n",
       "      <td>47</td>\n",
       "      <td>1206</td>\n",
       "      <td>134</td>\n",
       "      <td>4860</td>\n",
       "      <td>3122</td>\n",
       "      <td>600</td>\n",
       "      <td>650</td>\n",
       "      <td>100</td>\n",
       "      <td>88</td>\n",
       "      <td>17.4</td>\n",
       "      <td>16</td>\n",
       "      <td>6415</td>\n",
       "      <td>43</td>\n",
       "    </tr>\n",
       "  </tbody>\n",
       "</table>\n",
       "</div>"
      ],
      "text/plain": [
       "     Apps  Accept  Enroll  Top10perc  Top25perc  F_Undergrad  P_Undergrad  \\\n",
       "95   3847    3433     527          9         35         1010           12   \n",
       "582   529     481     243         22         47         1206          134   \n",
       "\n",
       "     Outstate  Room_Board  Books  Personal  PhD  Terminal  S_F_Ratio  \\\n",
       "95       9384        4840    600       500   22        47       14.3   \n",
       "582      4860        3122    600       650  100        88       17.4   \n",
       "\n",
       "     perc_alumni  Expend  Grad_Rate  \n",
       "95            20    7697        100  \n",
       "582           16    6415         43  "
      ]
     },
     "execution_count": 29,
     "metadata": {},
     "output_type": "execute_result"
    }
   ],
   "source": [
    "data.loc[95,'Grad_Rate'] = 100\n",
    "data.loc[582,'PhD'] = 100\n",
    "data.loc[[95,582]]"
   ]
  },
  {
   "cell_type": "markdown",
   "metadata": {
    "id": "6KBFnS4-OPU_"
   },
   "source": [
    "#### Let's check the distribution and outliers for each column in the data"
   ]
  },
  {
   "cell_type": "code",
   "execution_count": 30,
   "metadata": {
    "id": "nePVJTT8OPU_",
    "outputId": "d488d492-0096-4a1b-98e7-4575af7d5390",
    "scrolled": false
   },
   "outputs": [
    {
     "name": "stdout",
     "output_type": "stream",
     "text": [
      "Apps\n",
      "Skew : 3.72\n"
     ]
    },
    {
     "data": {
      "image/png": "[encoded data removed]",
      "text/plain": [
       "<Figure size 1080x288 with 2 Axes>"
      ]
     },
     "metadata": {
      "needs_background": "light"
     },
     "output_type": "display_data"
    },
    {
     "name": "stdout",
     "output_type": "stream",
     "text": [
      "Accept\n",
      "Skew : 3.42\n"
     ]
    },
    {
     "data": {
      "image/png": "[encoded data removed]",
      "text/plain": [
       "<Figure size 1080x288 with 2 Axes>"
      ]
     },
     "metadata": {
      "needs_background": "light"
     },
     "output_type": "display_data"
    },
    {
     "name": "stdout",
     "output_type": "stream",
     "text": [
      "Enroll\n",
      "Skew : 2.69\n"
     ]
    },
    {
     "data": {
      "image/png": "[encoded data removed]",
      "text/plain": [
       "<Figure size 1080x288 with 2 Axes>"
      ]
     },
     "metadata": {
      "needs_background": "light"
     },
     "output_type": "display_data"
    },
    {
     "name": "stdout",
     "output_type": "stream",
     "text": [
      "Top10perc\n",
      "Skew : 1.41\n"
     ]
    },
    {
     "data": {
      "image/png": "[encoded data removed]",
      "text/plain": [
       "<Figure size 1080x288 with 2 Axes>"
      ]
     },
     "metadata": {
      "needs_background": "light"
     },
     "output_type": "display_data"
    },
    {
     "name": "stdout",
     "output_type": "stream",
     "text": [
      "Top25perc\n",
      "Skew : 0.26\n"
     ]
    },
    {
     "data": {
      "image/png": "[encoded data removed]",
      "text/plain": [
       "<Figure size 1080x288 with 2 Axes>"
      ]
     },
     "metadata": {
      "needs_background": "light"
     },
     "output_type": "display_data"
    },
    {
     "name": "stdout",
     "output_type": "stream",
     "text": [
      "F_Undergrad\n",
      "Skew : 2.61\n"
     ]
    },
    {
     "data": {
      "image/png": "[encoded data removed]",
      "text/plain": [
       "<Figure size 1080x288 with 2 Axes>"
      ]
     },
     "metadata": {
      "needs_background": "light"
     },
     "output_type": "display_data"
    },
    {
     "name": "stdout",
     "output_type": "stream",
     "text": [
      "P_Undergrad\n",
      "Skew : 5.69\n"
     ]
    },
    {
     "data": {
      "image/png": "[encoded data removed]",
      "text/plain": [
       "<Figure size 1080x288 with 2 Axes>"
      ]
     },
     "metadata": {
      "needs_background": "light"
     },
     "output_type": "display_data"
    },
    {
     "name": "stdout",
     "output_type": "stream",
     "text": [
      "Outstate\n",
      "Skew : 0.51\n"
     ]
    },
    {
     "data": {
      "image/png": "[encoded data removed]",
      "text/plain": [
       "<Figure size 1080x288 with 2 Axes>"
      ]
     },
     "metadata": {
      "needs_background": "light"
     },
     "output_type": "display_data"
    },
    {
     "name": "stdout",
     "output_type": "stream",
     "text": [
      "Room_Board\n",
      "Skew : 0.48\n"
     ]
    },
    {
     "data": {
      "image/png": "[encoded data removed]",
      "text/plain": [
       "<Figure size 1080x288 with 2 Axes>"
      ]
     },
     "metadata": {
      "needs_background": "light"
     },
     "output_type": "display_data"
    },
    {
     "name": "stdout",
     "output_type": "stream",
     "text": [
      "Books\n",
      "Skew : 3.49\n"
     ]
    },
    {
     "data": {
      "image/png": "[encoded data removed]",
      "text/plain": [
       "<Figure size 1080x288 with 2 Axes>"
      ]
     },
     "metadata": {
      "needs_background": "light"
     },
     "output_type": "display_data"
    },
    {
     "name": "stdout",
     "output_type": "stream",
     "text": [
      "Personal\n",
      "Skew : 1.74\n"
     ]
    },
    {
     "data": {
      "image/png": "[encoded data removed]",
      "text/plain": [
       "<Figure size 1080x288 with 2 Axes>"
      ]
     },
     "metadata": {
      "needs_background": "light"
     },
     "output_type": "display_data"
    },
    {
     "name": "stdout",
     "output_type": "stream",
     "text": [
      "PhD\n",
      "Skew : -0.77\n"
     ]
    },
    {
     "data": {
      "image/png": "[encoded data removed]",
      "text/plain": [
       "<Figure size 1080x288 with 2 Axes>"
      ]
     },
     "metadata": {
      "needs_background": "light"
     },
     "output_type": "display_data"
    },
    {
     "name": "stdout",
     "output_type": "stream",
     "text": [
      "Terminal\n",
      "Skew : -0.82\n"
     ]
    },
    {
     "data": {
      "image/png": "[encoded data removed]",
      "text/plain": [
       "<Figure size 1080x288 with 2 Axes>"
      ]
     },
     "metadata": {
      "needs_background": "light"
     },
     "output_type": "display_data"
    },
    {
     "name": "stdout",
     "output_type": "stream",
     "text": [
      "S_F_Ratio\n",
      "Skew : 0.67\n"
     ]
    },
    {
     "data": {
      "image/png": "[encoded data removed]",
      "text/plain": [
       "<Figure size 1080x288 with 2 Axes>"
      ]
     },
     "metadata": {
      "needs_background": "light"
     },
     "output_type": "display_data"
    },
    {
     "name": "stdout",
     "output_type": "stream",
     "text": [
      "perc_alumni\n",
      "Skew : 0.61\n"
     ]
    },
    {
     "data": {
      "image/png": "[encoded data removed]",
      "text/plain": [
       "<Figure size 1080x288 with 2 Axes>"
      ]
     },
     "metadata": {
      "needs_background": "light"
     },
     "output_type": "display_data"
    },
    {
     "name": "stdout",
     "output_type": "stream",
     "text": [
      "Expend\n",
      "Skew : 3.46\n"
     ]
    },
    {
     "data": {
      "image/png": "[encoded data removed]",
      "text/plain": [
       "<Figure size 1080x288 with 2 Axes>"
      ]
     },
     "metadata": {
      "needs_background": "light"
     },
     "output_type": "display_data"
    },
    {
     "name": "stdout",
     "output_type": "stream",
     "text": [
      "Grad_Rate\n",
      "Skew : -0.14\n"
     ]
    },
    {
     "data": {
      "image/png": "[encoded data removed]",
      "text/plain": [
       "<Figure size 1080x288 with 2 Axes>"
      ]
     },
     "metadata": {
      "needs_background": "light"
     },
     "output_type": "display_data"
    }
   ],
   "source": [
    "for column in data.columns:\n",
    "    print(column)\n",
    "    print('Skew :',round(data[column].skew(),2))\n",
    "    plt.figure(figsize=(15,4))\n",
    "    plt.subplot(1,2,1)\n",
    "    data[column].hist(bins=10, grid=False)\n",
    "    plt.ylabel('count')\n",
    "    plt.subplot(1,2,2)\n",
    "    sns.boxplot(x=data[column])\n",
    "    plt.show()"
   ]
  },
  {
   "cell_type": "markdown",
   "metadata": {},
   "source": [
    "#### What are the columns that have highly right skew? \n",
    "* Apps, Accept, Enroll, Top10perc, F_Undergrad, P_Undergrad, books, Personal, Expend\n",
    "#### moderate right skew? \n",
    "* S_F_Ratio, Outstate, and perc_alumni."
   ]
  },
  {
   "cell_type": "markdown",
   "metadata": {},
   "source": [
    "#### What are the columns that have moderate left skew?\n",
    "* PhD and Terminal"
   ]
  },
  {
   "cell_type": "markdown",
   "metadata": {},
   "source": []
  },
  {
   "cell_type": "markdown",
   "metadata": {},
   "source": [
    "#### What is the column that does not possess outliers?\n",
    "* Top25perc"
   ]
  },
  {
   "cell_type": "markdown",
   "metadata": {},
   "source": []
  },
  {
   "cell_type": "markdown",
   "metadata": {
    "id": "slJJmIhoOPVA"
   },
   "source": [
    "**Now, let's check the correlation among different variables.**"
   ]
  },
  {
   "cell_type": "code",
   "execution_count": 31,
   "metadata": {
    "id": "ou0Jca8uOPVB",
    "outputId": "ca7ca744-6747-413d-d149-bd4167109278"
   },
   "outputs": [
    {
     "data": {
      "image/png": "[encoded data removed]",
      "text/plain": [
       "<Figure size 1440x720 with 2 Axes>"
      ]
     },
     "metadata": {
      "needs_background": "light"
     },
     "output_type": "display_data"
    }
   ],
   "source": [
    "plt.figure(figsize=(20,10))\n",
    "sns.heatmap(data.corr(), annot=True, fmt='0.2f')\n",
    "plt.show()"
   ]
  },
  {
   "cell_type": "markdown",
   "metadata": {},
   "source": [
    "#### List the variables that has high positive correlation and high negative correlation.Suppose Threshold for positive correlation=0.8, Threshold for negative correlation = -0.5\n",
    "\n",
    "high positive correlation\n",
    "\n",
    "* 1- The variable Apps has strong positive correlation with Accept, Enroll, and F_Undergrad \n",
    "* 2- The variable Accept has strong positive correlation with Apps, Enroll, and F_Undergrad \n",
    "* 3- The variable Enroll has strong positive correlation with Apps, Accept, and F_Undergrad \n",
    "* 4- The variable F_Undergrad has strong positive correlation with Apps, Accept, and Enroll \n",
    "* 5- The variable Top10perc has strong positive correlation with Top25perc.\n",
    "* 6- The variable Terminal has strong positive correlation with PhD.\n",
    "\n",
    "high negative correlation\n",
    "* The variable S_F_Ratio has strong negative correlation with Expand and outstate.\n",
    "\n",
    "Note: \n",
    "* The light color represent high positive corr between varibles, while the dark color represent high negative corr. \n"
   ]
  },
  {
   "cell_type": "markdown",
   "metadata": {
    "id": "-Go3AHnpOPVB"
   },
   "source": []
  },
  {
   "cell_type": "markdown",
   "metadata": {
    "id": "U_tVtTW0OPVB"
   },
   "source": [
    "#### Scaling the data"
   ]
  },
  {
   "cell_type": "code",
   "execution_count": 32,
   "metadata": {
    "id": "WVOlH6WGOPVC"
   },
   "outputs": [],
   "source": [
    "scaler=StandardScaler()\n",
    "data_scaled=pd.DataFrame(scaler.fit_transform(data), columns=data.columns)\n",
    "data_scaled_copy = data_scaled.copy()"
   ]
  },
  {
   "cell_type": "markdown",
   "metadata": {},
   "source": [
    "#### Print head for data after scaling."
   ]
  },
  {
   "cell_type": "code",
   "execution_count": 33,
   "metadata": {
    "id": "r5MdMPueOPVC",
    "outputId": "ef5a3e41-d3db-4122-d811-96bd78053f5e"
   },
   "outputs": [
    {
     "data": {
      "text/html": [
       "<div>\n",
       "<style scoped>\n",
       "    .dataframe tbody tr th:only-of-type {\n",
       "        vertical-align: middle;\n",
       "    }\n",
       "\n",
       "    .dataframe tbody tr th {\n",
       "        vertical-align: top;\n",
       "    }\n",
       "\n",
       "    .dataframe thead th {\n",
       "        text-align: right;\n",
       "    }\n",
       "</style>\n",
       "<table border=\"1\" class=\"dataframe\">\n",
       "  <thead>\n",
       "    <tr style=\"text-align: right;\">\n",
       "      <th></th>\n",
       "      <th>Apps</th>\n",
       "      <th>Accept</th>\n",
       "      <th>Enroll</th>\n",
       "      <th>Top10perc</th>\n",
       "      <th>Top25perc</th>\n",
       "      <th>F_Undergrad</th>\n",
       "      <th>P_Undergrad</th>\n",
       "      <th>Outstate</th>\n",
       "      <th>Room_Board</th>\n",
       "      <th>Books</th>\n",
       "      <th>Personal</th>\n",
       "      <th>PhD</th>\n",
       "      <th>Terminal</th>\n",
       "      <th>S_F_Ratio</th>\n",
       "      <th>perc_alumni</th>\n",
       "      <th>Expend</th>\n",
       "      <th>Grad_Rate</th>\n",
       "    </tr>\n",
       "  </thead>\n",
       "  <tbody>\n",
       "    <tr>\n",
       "      <th>0</th>\n",
       "      <td>-0.346882</td>\n",
       "      <td>-0.321205</td>\n",
       "      <td>-0.063509</td>\n",
       "      <td>-0.258583</td>\n",
       "      <td>-0.191827</td>\n",
       "      <td>-0.168116</td>\n",
       "      <td>-0.209207</td>\n",
       "      <td>-0.746356</td>\n",
       "      <td>-0.964905</td>\n",
       "      <td>-0.602312</td>\n",
       "      <td>1.270045</td>\n",
       "      <td>-0.162859</td>\n",
       "      <td>-0.115729</td>\n",
       "      <td>1.013776</td>\n",
       "      <td>-0.867574</td>\n",
       "      <td>-0.501910</td>\n",
       "      <td>-0.317993</td>\n",
       "    </tr>\n",
       "    <tr>\n",
       "      <th>1</th>\n",
       "      <td>-0.210884</td>\n",
       "      <td>-0.038703</td>\n",
       "      <td>-0.288584</td>\n",
       "      <td>-0.655656</td>\n",
       "      <td>-1.353911</td>\n",
       "      <td>-0.209788</td>\n",
       "      <td>0.244307</td>\n",
       "      <td>0.457496</td>\n",
       "      <td>1.909208</td>\n",
       "      <td>1.215880</td>\n",
       "      <td>0.235515</td>\n",
       "      <td>-2.676529</td>\n",
       "      <td>-3.378176</td>\n",
       "      <td>-0.477704</td>\n",
       "      <td>-0.544572</td>\n",
       "      <td>0.166110</td>\n",
       "      <td>-0.551805</td>\n",
       "    </tr>\n",
       "    <tr>\n",
       "      <th>2</th>\n",
       "      <td>-0.406866</td>\n",
       "      <td>-0.376318</td>\n",
       "      <td>-0.478121</td>\n",
       "      <td>-0.315307</td>\n",
       "      <td>-0.292878</td>\n",
       "      <td>-0.549565</td>\n",
       "      <td>-0.497090</td>\n",
       "      <td>0.201305</td>\n",
       "      <td>-0.554317</td>\n",
       "      <td>-0.905344</td>\n",
       "      <td>-0.259582</td>\n",
       "      <td>-1.205112</td>\n",
       "      <td>-0.931341</td>\n",
       "      <td>-0.300749</td>\n",
       "      <td>0.585935</td>\n",
       "      <td>-0.177290</td>\n",
       "      <td>-0.668710</td>\n",
       "    </tr>\n",
       "    <tr>\n",
       "      <th>3</th>\n",
       "      <td>-0.668261</td>\n",
       "      <td>-0.681682</td>\n",
       "      <td>-0.692427</td>\n",
       "      <td>1.840231</td>\n",
       "      <td>1.677612</td>\n",
       "      <td>-0.658079</td>\n",
       "      <td>-0.520752</td>\n",
       "      <td>0.626633</td>\n",
       "      <td>0.996791</td>\n",
       "      <td>-0.602312</td>\n",
       "      <td>-0.688173</td>\n",
       "      <td>1.185939</td>\n",
       "      <td>1.175657</td>\n",
       "      <td>-1.615274</td>\n",
       "      <td>1.151188</td>\n",
       "      <td>1.792851</td>\n",
       "      <td>-0.376446</td>\n",
       "    </tr>\n",
       "    <tr>\n",
       "      <th>4</th>\n",
       "      <td>-0.726176</td>\n",
       "      <td>-0.764555</td>\n",
       "      <td>-0.780735</td>\n",
       "      <td>-0.655656</td>\n",
       "      <td>-0.596031</td>\n",
       "      <td>-0.711924</td>\n",
       "      <td>0.009005</td>\n",
       "      <td>-0.716508</td>\n",
       "      <td>-0.216723</td>\n",
       "      <td>1.518912</td>\n",
       "      <td>0.235515</td>\n",
       "      <td>0.204995</td>\n",
       "      <td>-0.523535</td>\n",
       "      <td>-0.553542</td>\n",
       "      <td>-1.675079</td>\n",
       "      <td>0.241803</td>\n",
       "      <td>-2.948375</td>\n",
       "    </tr>\n",
       "  </tbody>\n",
       "</table>\n",
       "</div>"
      ],
      "text/plain": [
       "       Apps    Accept    Enroll  Top10perc  Top25perc  F_Undergrad  \\\n",
       "0 -0.346882 -0.321205 -0.063509  -0.258583  -0.191827    -0.168116   \n",
       "1 -0.210884 -0.038703 -0.288584  -0.655656  -1.353911    -0.209788   \n",
       "2 -0.406866 -0.376318 -0.478121  -0.315307  -0.292878    -0.549565   \n",
       "3 -0.668261 -0.681682 -0.692427   1.840231   1.677612    -0.658079   \n",
       "4 -0.726176 -0.764555 -0.780735  -0.655656  -0.596031    -0.711924   \n",
       "\n",
       "   P_Undergrad  Outstate  Room_Board     Books  Personal       PhD  Terminal  \\\n",
       "0    -0.209207 -0.746356   -0.964905 -0.602312  1.270045 -0.162859 -0.115729   \n",
       "1     0.244307  0.457496    1.909208  1.215880  0.235515 -2.676529 -3.378176   \n",
       "2    -0.497090  0.201305   -0.554317 -0.905344 -0.259582 -1.205112 -0.931341   \n",
       "3    -0.520752  0.626633    0.996791 -0.602312 -0.688173  1.185939  1.175657   \n",
       "4     0.009005 -0.716508   -0.216723  1.518912  0.235515  0.204995 -0.523535   \n",
       "\n",
       "   S_F_Ratio  perc_alumni    Expend  Grad_Rate  \n",
       "0   1.013776    -0.867574 -0.501910  -0.317993  \n",
       "1  -0.477704    -0.544572  0.166110  -0.551805  \n",
       "2  -0.300749     0.585935 -0.177290  -0.668710  \n",
       "3  -1.615274     1.151188  1.792851  -0.376446  \n",
       "4  -0.553542    -1.675079  0.241803  -2.948375  "
      ]
     },
     "execution_count": 33,
     "metadata": {},
     "output_type": "execute_result"
    }
   ],
   "source": [
    "data_scaled.head()"
   ]
  },
  {
   "cell_type": "markdown",
   "metadata": {
    "id": "-2z3eoCpOPVC"
   },
   "source": [
    "## Principal Component Analysis"
   ]
  },
  {
   "cell_type": "code",
   "execution_count": 34,
   "metadata": {
    "id": "JfdQ1cyeOPVC"
   },
   "outputs": [
    {
     "data": {
      "text/plain": [
       "(777, 17)"
      ]
     },
     "execution_count": 34,
     "metadata": {},
     "output_type": "execute_result"
    }
   ],
   "source": [
    "data.shape"
   ]
  },
  {
   "cell_type": "code",
   "execution_count": 35,
   "metadata": {},
   "outputs": [],
   "source": [
    "#Defining the number of principal components to generate \n",
    "number_Of_Principle_Component = data_scaled.shape[1]\n",
    "\n",
    "#Finding principal components for the data\n",
    "pca = PCA(n_components = number_Of_Principle_Component, random_state=1)\n",
    "data_pca1 = pd.DataFrame(pca.fit_transform(data_scaled))\n",
    "\n",
    "#The percentage of variance explained by each principal component\n",
    "exp_var = pca.explained_variance_ratio_"
   ]
  },
  {
   "cell_type": "markdown",
   "metadata": {},
   "source": [
    "#### Visualize the Explained Individual Components"
   ]
  },
  {
   "cell_type": "code",
   "execution_count": 36,
   "metadata": {
    "scrolled": false
   },
   "outputs": [
    {
     "data": {
      "text/plain": [
       "Text(0, 0.5, 'Cumulative Explained Variance')"
      ]
     },
     "execution_count": 36,
     "metadata": {},
     "output_type": "execute_result"
    },
    {
     "data": {
      "image/png": "[encoded data removed]",
      "text/plain": [
       "<Figure size 720x720 with 1 Axes>"
      ]
     },
     "metadata": {
      "needs_background": "light"
     },
     "output_type": "display_data"
    }
   ],
   "source": [
    "# visualize the explained variance by individual components\n",
    "plt.figure(figsize = (10,10))\n",
    "plt.plot(range(1,18), exp_var.cumsum(), marker = 'o', linestyle = '--')\n",
    "plt.title(\"Explained Variances by Components\")\n",
    "plt.xlabel(\"Number of Components\")\n",
    "plt.ylabel(\"Cumulative Explained Variance\")"
   ]
  },
  {
   "cell_type": "markdown",
   "metadata": {},
   "source": [
    "#### Find the least number of components that can explain more than 70% variance"
   ]
  },
  {
   "cell_type": "code",
   "execution_count": 37,
   "metadata": {
    "id": "XfGsx3x5OPVD",
    "outputId": "c3f3d494-8815-4df4-fdd1-6c0910f2ec5b"
   },
   "outputs": [
    {
     "name": "stdout",
     "output_type": "stream",
     "text": [
      "Number of PCs that explain at least 70% variance:  4\n"
     ]
    }
   ],
   "source": [
    "sum = 0\n",
    "for ix, i in enumerate(exp_var):\n",
    "    sum = sum + i\n",
    "    if(sum > 0.70):\n",
    "        print(\"Number of PCs that explain at least 70% variance: \", ix+1)\n",
    "        break"
   ]
  },
  {
   "cell_type": "markdown",
   "metadata": {},
   "source": [
    "#### Construct the 4 most important PCA components"
   ]
  },
  {
   "cell_type": "code",
   "execution_count": 38,
   "metadata": {
    "id": "x7uhhVsVOPVD",
    "outputId": "42f68022-e6f1-453c-b952-43cce0c63335"
   },
   "outputs": [
    {
     "data": {
      "text/plain": [
       "array([[ 0.25,  0.21,  0.18,  0.35,  0.34,  0.15,  0.03,  0.29,  0.25,\n",
       "         0.06, -0.04,  0.32,  0.32, -0.18,  0.21,  0.32,  0.25],\n",
       "       [ 0.33,  0.37,  0.4 , -0.08, -0.04,  0.42,  0.32, -0.25, -0.14,\n",
       "         0.06,  0.22,  0.06,  0.05,  0.25, -0.25, -0.13, -0.17],\n",
       "       [-0.06, -0.1 , -0.08,  0.03, -0.02, -0.06,  0.14,  0.05,  0.15,\n",
       "         0.68,  0.5 , -0.13, -0.07, -0.29, -0.15,  0.23, -0.21],\n",
       "       [ 0.28,  0.27,  0.16, -0.05, -0.11,  0.1 , -0.16,  0.13,  0.19,\n",
       "         0.08, -0.24, -0.53, -0.52, -0.16,  0.02,  0.08,  0.26],\n",
       "       [ 0.  ,  0.05, -0.06, -0.39, -0.43, -0.04,  0.3 ,  0.22,  0.56,\n",
       "        -0.13, -0.22,  0.14,  0.21, -0.08, -0.22,  0.08, -0.11],\n",
       "       [-0.01,  0.01, -0.04, -0.05,  0.03, -0.04, -0.19, -0.03,  0.16,\n",
       "         0.64, -0.33,  0.09,  0.15,  0.49, -0.05, -0.3 ,  0.22],\n",
       "       [-0.04, -0.01, -0.03, -0.16, -0.12, -0.02,  0.05,  0.11,  0.21,\n",
       "        -0.15,  0.63, -0.  , -0.03,  0.22,  0.24, -0.23,  0.56],\n",
       "       [-0.1 , -0.06,  0.06, -0.12, -0.1 ,  0.08,  0.57,  0.01, -0.22,\n",
       "         0.21, -0.23, -0.08, -0.01, -0.08,  0.68, -0.06, -0.  ],\n",
       "       [-0.09, -0.18, -0.13,  0.34,  0.4 , -0.06,  0.56, -0.  ,  0.28,\n",
       "        -0.13, -0.09, -0.19, -0.26,  0.28, -0.25, -0.05,  0.04],\n",
       "       [ 0.05,  0.04,  0.03,  0.06,  0.01,  0.02, -0.22,  0.18,  0.3 ,\n",
       "        -0.08,  0.14, -0.12, -0.08,  0.47,  0.42,  0.14, -0.59],\n",
       "       [ 0.04, -0.06, -0.07, -0.01, -0.27, -0.08,  0.1 ,  0.14, -0.36,\n",
       "         0.03, -0.02,  0.04, -0.06,  0.44, -0.13,  0.69,  0.22],\n",
       "       [ 0.02, -0.15,  0.01,  0.04, -0.09,  0.06, -0.06, -0.82,  0.35,\n",
       "        -0.03, -0.04,  0.02,  0.02, -0.01,  0.18,  0.33,  0.12],\n",
       "       [ 0.6 ,  0.29, -0.45,  0.  ,  0.02, -0.52,  0.13, -0.14, -0.07,\n",
       "         0.01,  0.04,  0.12, -0.05, -0.02,  0.1 , -0.09, -0.07],\n",
       "       [ 0.08,  0.03, -0.08, -0.11,  0.15, -0.05,  0.02, -0.03, -0.06,\n",
       "        -0.07,  0.03, -0.69,  0.67,  0.04, -0.03,  0.07,  0.04],\n",
       "       [ 0.13, -0.15,  0.03,  0.7 , -0.62,  0.01,  0.02,  0.04,  0.  ,\n",
       "        -0.01, -0.  , -0.11,  0.16, -0.02, -0.01, -0.23, -0.  ],\n",
       "       [ 0.46, -0.52, -0.4 , -0.15,  0.05,  0.56, -0.05,  0.1 , -0.03,\n",
       "         0.  , -0.01,  0.03, -0.03, -0.02,  0.  , -0.04, -0.01],\n",
       "       [ 0.36, -0.54,  0.61, -0.14,  0.08, -0.41,  0.01,  0.05,  0.  ,\n",
       "         0.  , -0.  ,  0.01,  0.01, -0.  , -0.02, -0.04, -0.01]])"
      ]
     },
     "execution_count": 38,
     "metadata": {},
     "output_type": "execute_result"
    }
   ],
   "source": [
    "np.round(pca.components_,2)"
   ]
  },
  {
   "cell_type": "code",
   "execution_count": 39,
   "metadata": {},
   "outputs": [
    {
     "data": {
      "text/html": [
       "<div>\n",
       "<style scoped>\n",
       "    .dataframe tbody tr th:only-of-type {\n",
       "        vertical-align: middle;\n",
       "    }\n",
       "\n",
       "    .dataframe tbody tr th {\n",
       "        vertical-align: top;\n",
       "    }\n",
       "\n",
       "    .dataframe thead th {\n",
       "        text-align: right;\n",
       "    }\n",
       "</style>\n",
       "<table border=\"1\" class=\"dataframe\">\n",
       "  <thead>\n",
       "    <tr style=\"text-align: right;\">\n",
       "      <th></th>\n",
       "      <th>PC1</th>\n",
       "      <th>PC2</th>\n",
       "      <th>PC3</th>\n",
       "      <th>PC4</th>\n",
       "    </tr>\n",
       "  </thead>\n",
       "  <tbody>\n",
       "    <tr>\n",
       "      <th>Apps</th>\n",
       "      <td>0.25</td>\n",
       "      <td>0.33</td>\n",
       "      <td>-0.06</td>\n",
       "      <td>0.28</td>\n",
       "    </tr>\n",
       "    <tr>\n",
       "      <th>Accept</th>\n",
       "      <td>0.21</td>\n",
       "      <td>0.37</td>\n",
       "      <td>-0.10</td>\n",
       "      <td>0.27</td>\n",
       "    </tr>\n",
       "    <tr>\n",
       "      <th>Enroll</th>\n",
       "      <td>0.18</td>\n",
       "      <td>0.40</td>\n",
       "      <td>-0.08</td>\n",
       "      <td>0.16</td>\n",
       "    </tr>\n",
       "    <tr>\n",
       "      <th>Top10perc</th>\n",
       "      <td>0.35</td>\n",
       "      <td>-0.08</td>\n",
       "      <td>0.03</td>\n",
       "      <td>-0.05</td>\n",
       "    </tr>\n",
       "    <tr>\n",
       "      <th>Top25perc</th>\n",
       "      <td>0.34</td>\n",
       "      <td>-0.04</td>\n",
       "      <td>-0.02</td>\n",
       "      <td>-0.11</td>\n",
       "    </tr>\n",
       "    <tr>\n",
       "      <th>F_Undergrad</th>\n",
       "      <td>0.15</td>\n",
       "      <td>0.42</td>\n",
       "      <td>-0.06</td>\n",
       "      <td>0.10</td>\n",
       "    </tr>\n",
       "    <tr>\n",
       "      <th>P_Undergrad</th>\n",
       "      <td>0.03</td>\n",
       "      <td>0.32</td>\n",
       "      <td>0.14</td>\n",
       "      <td>-0.16</td>\n",
       "    </tr>\n",
       "    <tr>\n",
       "      <th>Outstate</th>\n",
       "      <td>0.29</td>\n",
       "      <td>-0.25</td>\n",
       "      <td>0.05</td>\n",
       "      <td>0.13</td>\n",
       "    </tr>\n",
       "    <tr>\n",
       "      <th>Room_Board</th>\n",
       "      <td>0.25</td>\n",
       "      <td>-0.14</td>\n",
       "      <td>0.15</td>\n",
       "      <td>0.19</td>\n",
       "    </tr>\n",
       "    <tr>\n",
       "      <th>Books</th>\n",
       "      <td>0.06</td>\n",
       "      <td>0.06</td>\n",
       "      <td>0.68</td>\n",
       "      <td>0.08</td>\n",
       "    </tr>\n",
       "    <tr>\n",
       "      <th>Personal</th>\n",
       "      <td>-0.04</td>\n",
       "      <td>0.22</td>\n",
       "      <td>0.50</td>\n",
       "      <td>-0.24</td>\n",
       "    </tr>\n",
       "    <tr>\n",
       "      <th>PhD</th>\n",
       "      <td>0.32</td>\n",
       "      <td>0.06</td>\n",
       "      <td>-0.13</td>\n",
       "      <td>-0.53</td>\n",
       "    </tr>\n",
       "    <tr>\n",
       "      <th>Terminal</th>\n",
       "      <td>0.32</td>\n",
       "      <td>0.05</td>\n",
       "      <td>-0.07</td>\n",
       "      <td>-0.52</td>\n",
       "    </tr>\n",
       "    <tr>\n",
       "      <th>S_F_Ratio</th>\n",
       "      <td>-0.18</td>\n",
       "      <td>0.25</td>\n",
       "      <td>-0.29</td>\n",
       "      <td>-0.16</td>\n",
       "    </tr>\n",
       "    <tr>\n",
       "      <th>perc_alumni</th>\n",
       "      <td>0.21</td>\n",
       "      <td>-0.25</td>\n",
       "      <td>-0.15</td>\n",
       "      <td>0.02</td>\n",
       "    </tr>\n",
       "    <tr>\n",
       "      <th>Expend</th>\n",
       "      <td>0.32</td>\n",
       "      <td>-0.13</td>\n",
       "      <td>0.23</td>\n",
       "      <td>0.08</td>\n",
       "    </tr>\n",
       "    <tr>\n",
       "      <th>Grad_Rate</th>\n",
       "      <td>0.25</td>\n",
       "      <td>-0.17</td>\n",
       "      <td>-0.21</td>\n",
       "      <td>0.26</td>\n",
       "    </tr>\n",
       "  </tbody>\n",
       "</table>\n",
       "</div>"
      ],
      "text/plain": [
       "              PC1   PC2   PC3   PC4\n",
       "Apps         0.25  0.33 -0.06  0.28\n",
       "Accept       0.21  0.37 -0.10  0.27\n",
       "Enroll       0.18  0.40 -0.08  0.16\n",
       "Top10perc    0.35 -0.08  0.03 -0.05\n",
       "Top25perc    0.34 -0.04 -0.02 -0.11\n",
       "F_Undergrad  0.15  0.42 -0.06  0.10\n",
       "P_Undergrad  0.03  0.32  0.14 -0.16\n",
       "Outstate     0.29 -0.25  0.05  0.13\n",
       "Room_Board   0.25 -0.14  0.15  0.19\n",
       "Books        0.06  0.06  0.68  0.08\n",
       "Personal    -0.04  0.22  0.50 -0.24\n",
       "PhD          0.32  0.06 -0.13 -0.53\n",
       "Terminal     0.32  0.05 -0.07 -0.52\n",
       "S_F_Ratio   -0.18  0.25 -0.29 -0.16\n",
       "perc_alumni  0.21 -0.25 -0.15  0.02\n",
       "Expend       0.32 -0.13  0.23  0.08\n",
       "Grad_Rate    0.25 -0.17 -0.21  0.26"
      ]
     },
     "execution_count": 39,
     "metadata": {},
     "output_type": "execute_result"
    }
   ],
   "source": [
    "pc_comps = ['PC1','PC2','PC3', 'PC4']\n",
    "data_pca = pd.DataFrame(np.round(pca.components_[:4,:],2),index=pc_comps,columns=data_scaled.columns)\n",
    "data_pca.T"
   ]
  },
  {
   "cell_type": "markdown",
   "metadata": {},
   "source": [
    "#### Color the values more than 0.25 with skyblue and values less than -0.25 with pink"
   ]
  },
  {
   "cell_type": "code",
   "execution_count": 40,
   "metadata": {
    "id": "LdcOnzcCOPVE",
    "outputId": "043d2950-e361-4b28-fef7-3aa2545a4915"
   },
   "outputs": [
    {
     "data": {
      "text/html": [
       "<style type=\"text/css\">\n",
       "#T_164df_row0_col1, #T_164df_row0_col3, #T_164df_row1_col1, #T_164df_row1_col3, #T_164df_row2_col1, #T_164df_row3_col0, #T_164df_row4_col0, #T_164df_row5_col1, #T_164df_row6_col1, #T_164df_row7_col0, #T_164df_row9_col2, #T_164df_row10_col2, #T_164df_row11_col0, #T_164df_row12_col0, #T_164df_row15_col0, #T_164df_row16_col3 {\n",
       "  background: skyblue;\n",
       "}\n",
       "#T_164df_row11_col3, #T_164df_row12_col3, #T_164df_row13_col2 {\n",
       "  background: pink;\n",
       "}\n",
       "</style>\n",
       "<table id=\"T_164df_\">\n",
       "  <thead>\n",
       "    <tr>\n",
       "      <th class=\"blank level0\" >&nbsp;</th>\n",
       "      <th class=\"col_heading level0 col0\" >PC1</th>\n",
       "      <th class=\"col_heading level0 col1\" >PC2</th>\n",
       "      <th class=\"col_heading level0 col2\" >PC3</th>\n",
       "      <th class=\"col_heading level0 col3\" >PC4</th>\n",
       "    </tr>\n",
       "  </thead>\n",
       "  <tbody>\n",
       "    <tr>\n",
       "      <th id=\"T_164df_level0_row0\" class=\"row_heading level0 row0\" >Apps</th>\n",
       "      <td id=\"T_164df_row0_col0\" class=\"data row0 col0\" >0.250000</td>\n",
       "      <td id=\"T_164df_row0_col1\" class=\"data row0 col1\" >0.330000</td>\n",
       "      <td id=\"T_164df_row0_col2\" class=\"data row0 col2\" >-0.060000</td>\n",
       "      <td id=\"T_164df_row0_col3\" class=\"data row0 col3\" >0.280000</td>\n",
       "    </tr>\n",
       "    <tr>\n",
       "      <th id=\"T_164df_level0_row1\" class=\"row_heading level0 row1\" >Accept</th>\n",
       "      <td id=\"T_164df_row1_col0\" class=\"data row1 col0\" >0.210000</td>\n",
       "      <td id=\"T_164df_row1_col1\" class=\"data row1 col1\" >0.370000</td>\n",
       "      <td id=\"T_164df_row1_col2\" class=\"data row1 col2\" >-0.100000</td>\n",
       "      <td id=\"T_164df_row1_col3\" class=\"data row1 col3\" >0.270000</td>\n",
       "    </tr>\n",
       "    <tr>\n",
       "      <th id=\"T_164df_level0_row2\" class=\"row_heading level0 row2\" >Enroll</th>\n",
       "      <td id=\"T_164df_row2_col0\" class=\"data row2 col0\" >0.180000</td>\n",
       "      <td id=\"T_164df_row2_col1\" class=\"data row2 col1\" >0.400000</td>\n",
       "      <td id=\"T_164df_row2_col2\" class=\"data row2 col2\" >-0.080000</td>\n",
       "      <td id=\"T_164df_row2_col3\" class=\"data row2 col3\" >0.160000</td>\n",
       "    </tr>\n",
       "    <tr>\n",
       "      <th id=\"T_164df_level0_row3\" class=\"row_heading level0 row3\" >Top10perc</th>\n",
       "      <td id=\"T_164df_row3_col0\" class=\"data row3 col0\" >0.350000</td>\n",
       "      <td id=\"T_164df_row3_col1\" class=\"data row3 col1\" >-0.080000</td>\n",
       "      <td id=\"T_164df_row3_col2\" class=\"data row3 col2\" >0.030000</td>\n",
       "      <td id=\"T_164df_row3_col3\" class=\"data row3 col3\" >-0.050000</td>\n",
       "    </tr>\n",
       "    <tr>\n",
       "      <th id=\"T_164df_level0_row4\" class=\"row_heading level0 row4\" >Top25perc</th>\n",
       "      <td id=\"T_164df_row4_col0\" class=\"data row4 col0\" >0.340000</td>\n",
       "      <td id=\"T_164df_row4_col1\" class=\"data row4 col1\" >-0.040000</td>\n",
       "      <td id=\"T_164df_row4_col2\" class=\"data row4 col2\" >-0.020000</td>\n",
       "      <td id=\"T_164df_row4_col3\" class=\"data row4 col3\" >-0.110000</td>\n",
       "    </tr>\n",
       "    <tr>\n",
       "      <th id=\"T_164df_level0_row5\" class=\"row_heading level0 row5\" >F_Undergrad</th>\n",
       "      <td id=\"T_164df_row5_col0\" class=\"data row5 col0\" >0.150000</td>\n",
       "      <td id=\"T_164df_row5_col1\" class=\"data row5 col1\" >0.420000</td>\n",
       "      <td id=\"T_164df_row5_col2\" class=\"data row5 col2\" >-0.060000</td>\n",
       "      <td id=\"T_164df_row5_col3\" class=\"data row5 col3\" >0.100000</td>\n",
       "    </tr>\n",
       "    <tr>\n",
       "      <th id=\"T_164df_level0_row6\" class=\"row_heading level0 row6\" >P_Undergrad</th>\n",
       "      <td id=\"T_164df_row6_col0\" class=\"data row6 col0\" >0.030000</td>\n",
       "      <td id=\"T_164df_row6_col1\" class=\"data row6 col1\" >0.320000</td>\n",
       "      <td id=\"T_164df_row6_col2\" class=\"data row6 col2\" >0.140000</td>\n",
       "      <td id=\"T_164df_row6_col3\" class=\"data row6 col3\" >-0.160000</td>\n",
       "    </tr>\n",
       "    <tr>\n",
       "      <th id=\"T_164df_level0_row7\" class=\"row_heading level0 row7\" >Outstate</th>\n",
       "      <td id=\"T_164df_row7_col0\" class=\"data row7 col0\" >0.290000</td>\n",
       "      <td id=\"T_164df_row7_col1\" class=\"data row7 col1\" >-0.250000</td>\n",
       "      <td id=\"T_164df_row7_col2\" class=\"data row7 col2\" >0.050000</td>\n",
       "      <td id=\"T_164df_row7_col3\" class=\"data row7 col3\" >0.130000</td>\n",
       "    </tr>\n",
       "    <tr>\n",
       "      <th id=\"T_164df_level0_row8\" class=\"row_heading level0 row8\" >Room_Board</th>\n",
       "      <td id=\"T_164df_row8_col0\" class=\"data row8 col0\" >0.250000</td>\n",
       "      <td id=\"T_164df_row8_col1\" class=\"data row8 col1\" >-0.140000</td>\n",
       "      <td id=\"T_164df_row8_col2\" class=\"data row8 col2\" >0.150000</td>\n",
       "      <td id=\"T_164df_row8_col3\" class=\"data row8 col3\" >0.190000</td>\n",
       "    </tr>\n",
       "    <tr>\n",
       "      <th id=\"T_164df_level0_row9\" class=\"row_heading level0 row9\" >Books</th>\n",
       "      <td id=\"T_164df_row9_col0\" class=\"data row9 col0\" >0.060000</td>\n",
       "      <td id=\"T_164df_row9_col1\" class=\"data row9 col1\" >0.060000</td>\n",
       "      <td id=\"T_164df_row9_col2\" class=\"data row9 col2\" >0.680000</td>\n",
       "      <td id=\"T_164df_row9_col3\" class=\"data row9 col3\" >0.080000</td>\n",
       "    </tr>\n",
       "    <tr>\n",
       "      <th id=\"T_164df_level0_row10\" class=\"row_heading level0 row10\" >Personal</th>\n",
       "      <td id=\"T_164df_row10_col0\" class=\"data row10 col0\" >-0.040000</td>\n",
       "      <td id=\"T_164df_row10_col1\" class=\"data row10 col1\" >0.220000</td>\n",
       "      <td id=\"T_164df_row10_col2\" class=\"data row10 col2\" >0.500000</td>\n",
       "      <td id=\"T_164df_row10_col3\" class=\"data row10 col3\" >-0.240000</td>\n",
       "    </tr>\n",
       "    <tr>\n",
       "      <th id=\"T_164df_level0_row11\" class=\"row_heading level0 row11\" >PhD</th>\n",
       "      <td id=\"T_164df_row11_col0\" class=\"data row11 col0\" >0.320000</td>\n",
       "      <td id=\"T_164df_row11_col1\" class=\"data row11 col1\" >0.060000</td>\n",
       "      <td id=\"T_164df_row11_col2\" class=\"data row11 col2\" >-0.130000</td>\n",
       "      <td id=\"T_164df_row11_col3\" class=\"data row11 col3\" >-0.530000</td>\n",
       "    </tr>\n",
       "    <tr>\n",
       "      <th id=\"T_164df_level0_row12\" class=\"row_heading level0 row12\" >Terminal</th>\n",
       "      <td id=\"T_164df_row12_col0\" class=\"data row12 col0\" >0.320000</td>\n",
       "      <td id=\"T_164df_row12_col1\" class=\"data row12 col1\" >0.050000</td>\n",
       "      <td id=\"T_164df_row12_col2\" class=\"data row12 col2\" >-0.070000</td>\n",
       "      <td id=\"T_164df_row12_col3\" class=\"data row12 col3\" >-0.520000</td>\n",
       "    </tr>\n",
       "    <tr>\n",
       "      <th id=\"T_164df_level0_row13\" class=\"row_heading level0 row13\" >S_F_Ratio</th>\n",
       "      <td id=\"T_164df_row13_col0\" class=\"data row13 col0\" >-0.180000</td>\n",
       "      <td id=\"T_164df_row13_col1\" class=\"data row13 col1\" >0.250000</td>\n",
       "      <td id=\"T_164df_row13_col2\" class=\"data row13 col2\" >-0.290000</td>\n",
       "      <td id=\"T_164df_row13_col3\" class=\"data row13 col3\" >-0.160000</td>\n",
       "    </tr>\n",
       "    <tr>\n",
       "      <th id=\"T_164df_level0_row14\" class=\"row_heading level0 row14\" >perc_alumni</th>\n",
       "      <td id=\"T_164df_row14_col0\" class=\"data row14 col0\" >0.210000</td>\n",
       "      <td id=\"T_164df_row14_col1\" class=\"data row14 col1\" >-0.250000</td>\n",
       "      <td id=\"T_164df_row14_col2\" class=\"data row14 col2\" >-0.150000</td>\n",
       "      <td id=\"T_164df_row14_col3\" class=\"data row14 col3\" >0.020000</td>\n",
       "    </tr>\n",
       "    <tr>\n",
       "      <th id=\"T_164df_level0_row15\" class=\"row_heading level0 row15\" >Expend</th>\n",
       "      <td id=\"T_164df_row15_col0\" class=\"data row15 col0\" >0.320000</td>\n",
       "      <td id=\"T_164df_row15_col1\" class=\"data row15 col1\" >-0.130000</td>\n",
       "      <td id=\"T_164df_row15_col2\" class=\"data row15 col2\" >0.230000</td>\n",
       "      <td id=\"T_164df_row15_col3\" class=\"data row15 col3\" >0.080000</td>\n",
       "    </tr>\n",
       "    <tr>\n",
       "      <th id=\"T_164df_level0_row16\" class=\"row_heading level0 row16\" >Grad_Rate</th>\n",
       "      <td id=\"T_164df_row16_col0\" class=\"data row16 col0\" >0.250000</td>\n",
       "      <td id=\"T_164df_row16_col1\" class=\"data row16 col1\" >-0.170000</td>\n",
       "      <td id=\"T_164df_row16_col2\" class=\"data row16 col2\" >-0.210000</td>\n",
       "      <td id=\"T_164df_row16_col3\" class=\"data row16 col3\" >0.260000</td>\n",
       "    </tr>\n",
       "  </tbody>\n",
       "</table>\n"
      ],
      "text/plain": [
       "<pandas.io.formats.style.Styler at 0x19735262d60>"
      ]
     },
     "execution_count": 40,
     "metadata": {},
     "output_type": "execute_result"
    }
   ],
   "source": [
    "def color_high(val):\n",
    "    if val < -0.25:\n",
    "        return 'background: pink'\n",
    "    elif val > 0.25:\n",
    "        return 'background: skyblue'   \n",
    "    \n",
    "data_pca.T.style.applymap(color_high)"
   ]
  }
 ],
 "metadata": {
  "colab": {
   "collapsed_sections": [
    "6KBFnS4-OPU_",
    "U_tVtTW0OPVB",
    "wUb9isjxOPVH",
    "2EfTVX4ZOPVS",
    "CrGqbeJDOPVU",
    "q6mt96cROPVW"
   ],
   "name": "Case Study - PCA and TSNE (1).ipynb",
   "provenance": []
  },
  "kernelspec": {
   "display_name": "Python 3 (ipykernel)",
   "language": "python",
   "name": "python3"
  },
  "language_info": {
   "codemirror_mode": {
    "name": "ipython",
    "version": 3
   },
   "file_extension": ".py",
   "mimetype": "text/x-python",
   "name": "python",
   "nbconvert_exporter": "python",
   "pygments_lexer": "ipython3",
   "version": "3.9.7"
  }
 },
 "nbformat": 4,
 "nbformat_minor": 1
}
