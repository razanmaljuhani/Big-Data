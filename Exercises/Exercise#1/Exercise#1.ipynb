{
 "cells": [
  {
   "cell_type": "markdown",
   "metadata": {},
   "source": [
    "### Student Names:   \n",
    "\n",
    "#### Lena Baeshen \n",
    "\n",
    "#### Alaa alharbi \n",
    "\n",
    "#### Razan aljuhani \n",
    "\n"
   ]
  },
  {
   "cell_type": "markdown",
   "metadata": {},
   "source": [
    "# PRACTICE EXERCISES:\n",
    "\n",
    "<a href = '#sec1'> 1.Introduction to Variables </a>\n",
    "\n",
    "<a href = '#sec2'> 2. Collection of Variables </a>\n",
    "\n",
    "<a href = '#sec3'> 3. Data Types </a>\n",
    "\n",
    "<a href = '#sec4'> 4. Conditional Statement </a>\n",
    "\n",
    "<a href = '#sec5'> 5. Loop Statement </a>\n",
    "\n",
    "<a href = '#sec6'> 6. Functions </a>"
   ]
  },
  {
   "cell_type": "markdown",
   "metadata": {},
   "source": [
    "<a id = 'sec1'></a>\n",
    "\n",
    "## 1. Introduction to Variables"
   ]
  },
  {
   "cell_type": "markdown",
   "metadata": {},
   "source": [
    "### 1.1) What will be the type of the *add* variable?\n",
    "a = 10\n",
    "\n",
    "b = 5.1\n",
    "\n",
    "add = a + b"
   ]
  },
  {
   "cell_type": "code",
   "execution_count": 1,
   "metadata": {
    "ExecuteTime": {
     "end_time": "2021-05-20T14:48:25.469356Z",
     "start_time": "2021-05-20T14:48:25.449778Z"
    }
   },
   "outputs": [
    {
     "name": "stdout",
     "output_type": "stream",
     "text": [
      "15.1 <class 'float'>\n"
     ]
    }
   ],
   "source": [
    "a = 10\n",
    "b = 5.1\n",
    "add = a+b\n",
    "print(add, type(add))"
   ]
  },
  {
   "cell_type": "markdown",
   "metadata": {},
   "source": [
    "##### Ans(1.1) - As shown above the type of add variable is float. "
   ]
  },
  {
   "cell_type": "markdown",
   "metadata": {},
   "source": [
    "### 1.2) Is 5 = (3+2)?"
   ]
  },
  {
   "cell_type": "code",
   "execution_count": 2,
   "metadata": {
    "ExecuteTime": {
     "end_time": "2021-05-20T14:48:25.478475Z",
     "start_time": "2021-05-20T14:48:25.470486Z"
    }
   },
   "outputs": [
    {
     "data": {
      "text/plain": [
       "True"
      ]
     },
     "execution_count": 2,
     "metadata": {},
     "output_type": "execute_result"
    }
   ],
   "source": [
    "5 == (3+2)"
   ]
  },
  {
   "cell_type": "markdown",
   "metadata": {},
   "source": [
    "##### Ans(1.2) - As shown above, Yes 5 is equal to (3+2)  . "
   ]
  },
  {
   "cell_type": "markdown",
   "metadata": {},
   "source": [
    "### 1.3) Add 33 in variable *a* and print the result\n",
    "\n",
    "a = 3"
   ]
  },
  {
   "cell_type": "code",
   "execution_count": 3,
   "metadata": {
    "ExecuteTime": {
     "end_time": "2021-05-20T14:48:25.498751Z",
     "start_time": "2021-05-20T14:48:25.486530Z"
    }
   },
   "outputs": [
    {
     "name": "stdout",
     "output_type": "stream",
     "text": [
      "36\n"
     ]
    }
   ],
   "source": [
    "a = 3\n",
    "a += 33\n",
    "print(a)"
   ]
  },
  {
   "cell_type": "markdown",
   "metadata": {},
   "source": [
    "### 1.4) Convert integer variable *a* to float and check its type\n",
    "\n",
    "a = 3"
   ]
  },
  {
   "cell_type": "code",
   "execution_count": 4,
   "metadata": {
    "ExecuteTime": {
     "end_time": "2021-05-20T14:48:25.508158Z",
     "start_time": "2021-05-20T14:48:25.500721Z"
    }
   },
   "outputs": [
    {
     "name": "stdout",
     "output_type": "stream",
     "text": [
      "<class 'float'>\n"
     ]
    }
   ],
   "source": [
    "# 1- Convert integer variable a to float \n",
    "a = 3\n",
    "a = float(a)\n",
    "# 2- check its type\n",
    "print(type(a))"
   ]
  },
  {
   "cell_type": "markdown",
   "metadata": {},
   "source": [
    "<a id = 'sec2'></a>\n",
    "## 2. Collection of Variables"
   ]
  },
  {
   "cell_type": "markdown",
   "metadata": {},
   "source": [
    "### 2.1) Create a list of repeated element (element 2,48 times)"
   ]
  },
  {
   "cell_type": "code",
   "execution_count": 5,
   "metadata": {
    "ExecuteTime": {
     "end_time": "2021-05-20T14:48:25.559404Z",
     "start_time": "2021-05-20T14:48:25.538624Z"
    },
    "scrolled": true
   },
   "outputs": [
    {
     "data": {
      "text/plain": [
       "[2,\n",
       " 2,\n",
       " 2,\n",
       " 2,\n",
       " 2,\n",
       " 2,\n",
       " 2,\n",
       " 2,\n",
       " 2,\n",
       " 2,\n",
       " 2,\n",
       " 2,\n",
       " 2,\n",
       " 2,\n",
       " 2,\n",
       " 2,\n",
       " 2,\n",
       " 2,\n",
       " 2,\n",
       " 2,\n",
       " 2,\n",
       " 2,\n",
       " 2,\n",
       " 2,\n",
       " 2,\n",
       " 2,\n",
       " 2,\n",
       " 2,\n",
       " 2,\n",
       " 2,\n",
       " 2,\n",
       " 2,\n",
       " 2,\n",
       " 2,\n",
       " 2,\n",
       " 2,\n",
       " 2,\n",
       " 2,\n",
       " 2,\n",
       " 2,\n",
       " 2,\n",
       " 2,\n",
       " 2,\n",
       " 2,\n",
       " 2,\n",
       " 2,\n",
       " 2,\n",
       " 2]"
      ]
     },
     "execution_count": 5,
     "metadata": {},
     "output_type": "execute_result"
    }
   ],
   "source": [
    "# 1- Create a list\n",
    "repeatedList=[2]*48\n",
    "repeatedList"
   ]
  },
  {
   "cell_type": "markdown",
   "metadata": {},
   "source": [
    "### 2.2)  Replace the second element of the list with \"strawberries\"\n",
    "list = [\"apple\",\"orange\",\"grapes\",\"watermelon\"]"
   ]
  },
  {
   "cell_type": "markdown",
   "metadata": {},
   "source": [
    "Python's indexing starts from 0 hence the second element will be indexed as 1. \n",
    "\n",
    "Here, we are assigning the value 'strawberry' to the second element of the variable 'list' which contains a pre-defined list."
   ]
  },
  {
   "cell_type": "code",
   "execution_count": 6,
   "metadata": {},
   "outputs": [
    {
     "data": {
      "text/plain": [
       "['apple', 'strawberry', 'grapes', 'watermelon']"
      ]
     },
     "execution_count": 6,
     "metadata": {},
     "output_type": "execute_result"
    }
   ],
   "source": [
    "list = [\"apple\",\"orange\",\"grapes\",\"watermelon\"]\n",
    "list[1] = 'strawberry'\n",
    "list"
   ]
  },
  {
   "cell_type": "markdown",
   "metadata": {},
   "source": [
    "### 2.3) Check length of list\n",
    "\n",
    "List1 =[\"a\",\"b\",\"c\",\"d\",\"e\"]"
   ]
  },
  {
   "cell_type": "code",
   "execution_count": 7,
   "metadata": {
    "ExecuteTime": {
     "end_time": "2021-05-20T14:48:25.628548Z",
     "start_time": "2021-05-20T14:48:25.619539Z"
    }
   },
   "outputs": [
    {
     "data": {
      "text/plain": [
       "5"
      ]
     },
     "execution_count": 7,
     "metadata": {},
     "output_type": "execute_result"
    }
   ],
   "source": [
    "List1 = [\"a\",\"b\",\"c\",\"d\",\"e\"]\n",
    "len(List1)"
   ]
  },
  {
   "cell_type": "markdown",
   "metadata": {},
   "source": [
    "### 2.4) Create a dictionary with the following information:\n",
    "\n",
    "brand = Audi\n",
    "\n",
    "Model = Q2\n",
    "\n",
    "Year = 1980"
   ]
  },
  {
   "cell_type": "code",
   "execution_count": 8,
   "metadata": {
    "ExecuteTime": {
     "end_time": "2021-05-20T14:48:25.638636Z",
     "start_time": "2021-05-20T14:48:25.630590Z"
    }
   },
   "outputs": [
    {
     "data": {
      "text/plain": [
       "{'brand': 'Audi', 'Model': 'Q2', 'Year': 1980}"
      ]
     },
     "execution_count": 8,
     "metadata": {},
     "output_type": "execute_result"
    }
   ],
   "source": [
    "cars = {\"brand\": \"Audi\", \"Model\":\"Q2\", \"Year\":1980}\n",
    "cars"
   ]
  },
  {
   "cell_type": "markdown",
   "metadata": {},
   "source": [
    "### 2.5) Create a set of following elements\n",
    "\n",
    "1.0, \"Hello\", 55 , (6,7,8)"
   ]
  },
  {
   "cell_type": "code",
   "execution_count": 9,
   "metadata": {
    "ExecuteTime": {
     "end_time": "2021-05-20T14:48:25.658787Z",
     "start_time": "2021-05-20T14:48:25.650828Z"
    }
   },
   "outputs": [
    {
     "data": {
      "text/plain": [
       "{(6, 7, 8), 1.0, 55, 'Hello'}"
      ]
     },
     "execution_count": 9,
     "metadata": {},
     "output_type": "execute_result"
    }
   ],
   "source": [
    "sett = {1.0,\"Hello\",55,(6,7,8)}\n",
    "sett"
   ]
  },
  {
   "cell_type": "markdown",
   "metadata": {},
   "source": [
    "<a id = 'sec3'></a>\n",
    "\n",
    "## 3. Data Types and String Manipulation"
   ]
  },
  {
   "cell_type": "markdown",
   "metadata": {},
   "source": [
    "### 3.1) Printing your name My_Name = \"My name is Jupyter!\" Also, check if My_Name is all Caps or not. Use isupper() to check returns True if all the letters are Capitals, False if atleast one letter in in lower case. \n",
    "\n",
    "HINT: My_Name.isupper()"
   ]
  },
  {
   "cell_type": "code",
   "execution_count": 10,
   "metadata": {
    "ExecuteTime": {
     "end_time": "2021-05-20T14:48:25.698733Z",
     "start_time": "2021-05-20T14:48:25.690738Z"
    }
   },
   "outputs": [
    {
     "name": "stdout",
     "output_type": "stream",
     "text": [
      "My name is Jupyter!\n",
      "False\n"
     ]
    }
   ],
   "source": [
    "# 1- Printing your name My_Name\n",
    "My_Name = \"My name is Jupyter!\"\n",
    "print(My_Name)\n",
    "\n",
    "# 2- Check if My_Name is all Caps or not\n",
    "if(My_Name.isupper()):\n",
    "    print('Ture')\n",
    "else:\n",
    "    print('False')"
   ]
  },
  {
   "cell_type": "markdown",
   "metadata": {},
   "source": [
    "### 3.2)  Convert My_Name to all caps. Hint: My_Name.upper()."
   ]
  },
  {
   "cell_type": "code",
   "execution_count": 11,
   "metadata": {
    "ExecuteTime": {
     "end_time": "2021-05-20T14:48:25.717918Z",
     "start_time": "2021-05-20T14:48:25.709391Z"
    }
   },
   "outputs": [
    {
     "name": "stdout",
     "output_type": "stream",
     "text": [
      "MY NAME IS JUPYTER!\n"
     ]
    }
   ],
   "source": [
    "My_Name = My_Name.upper()\n",
    "print(My_Name)"
   ]
  },
  {
   "cell_type": "markdown",
   "metadata": {},
   "source": [
    "### 3.3) if int1 = \"500\", what is the Datatype of int1"
   ]
  },
  {
   "cell_type": "code",
   "execution_count": 12,
   "metadata": {
    "ExecuteTime": {
     "end_time": "2021-05-20T14:48:25.738721Z",
     "start_time": "2021-05-20T14:48:25.720391Z"
    }
   },
   "outputs": [
    {
     "name": "stdout",
     "output_type": "stream",
     "text": [
      "<class 'str'>\n"
     ]
    }
   ],
   "source": [
    "int1 = \"500\"\n",
    "print(type(int1))"
   ]
  },
  {
   "cell_type": "markdown",
   "metadata": {},
   "source": [
    "##### Ans(3.3) - As shown above the Datatype int1 is String. "
   ]
  },
  {
   "cell_type": "markdown",
   "metadata": {},
   "source": [
    "<a id = 'sec4'></a>\n",
    "\n",
    "## 4. Practice Exercise on Conditional Statement"
   ]
  },
  {
   "cell_type": "markdown",
   "metadata": {},
   "source": [
    "### 4.1) if x = 20 and y = 30. Write a python code to check if x is less than y."
   ]
  },
  {
   "cell_type": "code",
   "execution_count": 13,
   "metadata": {
    "ExecuteTime": {
     "end_time": "2021-05-20T14:48:25.789559Z",
     "start_time": "2021-05-20T14:48:25.780049Z"
    }
   },
   "outputs": [
    {
     "name": "stdout",
     "output_type": "stream",
     "text": [
      "True\n"
     ]
    }
   ],
   "source": [
    "x = 20\n",
    "y = 30 \n",
    "print(x < y)"
   ]
  },
  {
   "cell_type": "markdown",
   "metadata": {},
   "source": [
    "### 4.2) Check if *a* is equal to 10, If yes, print \"Hello\", else print \"Good Bye\"\n",
    "a = 56"
   ]
  },
  {
   "cell_type": "code",
   "execution_count": 14,
   "metadata": {
    "ExecuteTime": {
     "end_time": "2021-05-20T14:48:25.818796Z",
     "start_time": "2021-05-20T14:48:25.798761Z"
    }
   },
   "outputs": [
    {
     "name": "stdout",
     "output_type": "stream",
     "text": [
      "Good Bye\n"
     ]
    }
   ],
   "source": [
    "a = 56\n",
    "if(a==10):\n",
    "    print(\"Hello\")\n",
    "else:\n",
    "    print(\"Good Bye\")"
   ]
  },
  {
   "cell_type": "markdown",
   "metadata": {},
   "source": [
    "### 4.3) Check whether a number is even or odd\n",
    "a = 2020"
   ]
  },
  {
   "cell_type": "code",
   "execution_count": 15,
   "metadata": {
    "ExecuteTime": {
     "end_time": "2021-05-20T14:48:25.836915Z",
     "start_time": "2021-05-20T14:48:25.820893Z"
    }
   },
   "outputs": [
    {
     "name": "stdout",
     "output_type": "stream",
     "text": [
      "The number is EVEN\n"
     ]
    }
   ],
   "source": [
    "a = 2020\n",
    "if (a % 2) == 0:\n",
    "    print(\"The number is EVEN\")\n",
    "else:\n",
    "    print(\"The number is ODD\")"
   ]
  },
  {
   "cell_type": "markdown",
   "metadata": {},
   "source": [
    "### 4.4) Check if the word \"Data\" is present in the sentence \"I am a Data Scientist\". If found, print \"It is present\" else print FALSE."
   ]
  },
  {
   "cell_type": "code",
   "execution_count": 16,
   "metadata": {
    "ExecuteTime": {
     "end_time": "2021-05-20T14:48:25.868457Z",
     "start_time": "2021-05-20T14:48:25.860437Z"
    }
   },
   "outputs": [
    {
     "name": "stdout",
     "output_type": "stream",
     "text": [
      "It is present\n"
     ]
    }
   ],
   "source": [
    "word = \"Data\"\n",
    "sentence = \"I am a Data Scientist\"\n",
    "if(word in sentence ):\n",
    "    print(\"It is present\")\n",
    "else:\n",
    "    print(\"FALSE\")"
   ]
  },
  {
   "cell_type": "markdown",
   "metadata": {},
   "source": [
    "### 4.5) Write python code to check if a number is positive or negative."
   ]
  },
  {
   "cell_type": "code",
   "execution_count": 17,
   "metadata": {
    "ExecuteTime": {
     "end_time": "2021-05-20T14:48:25.888736Z",
     "start_time": "2021-05-20T14:48:25.880718Z"
    }
   },
   "outputs": [
    {
     "name": "stdout",
     "output_type": "stream",
     "text": [
      "Enter a number: -7\n",
      "The number is negative\n"
     ]
    }
   ],
   "source": [
    "# 1- take number input from the user \n",
    "number = int(input(\"Enter a number: \"))\n",
    "\n",
    "# 2- check if a number is positive or negative\n",
    "if(number >= 0):\n",
    "    print('The number is positive')\n",
    "else:\n",
    "    print('The number is negative')"
   ]
  },
  {
   "cell_type": "markdown",
   "metadata": {},
   "source": [
    "<a id = 'sec5'></a>\n",
    "\n",
    "## 5. Practice Exercise on Loops"
   ]
  },
  {
   "cell_type": "markdown",
   "metadata": {},
   "source": [
    "### 5.1) Print Data Science 5 times using for loop"
   ]
  },
  {
   "cell_type": "code",
   "execution_count": 18,
   "metadata": {
    "ExecuteTime": {
     "end_time": "2021-05-20T14:48:25.928325Z",
     "start_time": "2021-05-20T14:48:25.910937Z"
    }
   },
   "outputs": [
    {
     "name": "stdout",
     "output_type": "stream",
     "text": [
      "Data Science\n",
      "Data Science\n",
      "Data Science\n",
      "Data Science\n",
      "Data Science\n"
     ]
    }
   ],
   "source": [
    "for i in range(0,5):\n",
    "    print('Data Science')"
   ]
  },
  {
   "cell_type": "markdown",
   "metadata": {},
   "source": [
    "Note: Remember to keep the index as one more than what is required. In the above code the indexing is done from 0 to 5 which are 6 places but Python has printed it 5 times."
   ]
  },
  {
   "cell_type": "markdown",
   "metadata": {},
   "source": [
    "### 5.2) Print all the even numbers from 1 to 20 (both inclusive) using for loop."
   ]
  },
  {
   "cell_type": "code",
   "execution_count": 19,
   "metadata": {
    "ExecuteTime": {
     "end_time": "2021-05-20T14:48:25.968679Z",
     "start_time": "2021-05-20T14:48:25.950257Z"
    }
   },
   "outputs": [
    {
     "name": "stdout",
     "output_type": "stream",
     "text": [
      "2\n",
      "4\n",
      "6\n",
      "8\n",
      "10\n",
      "12\n",
      "14\n",
      "16\n",
      "18\n",
      "20\n"
     ]
    }
   ],
   "source": [
    "for i in range(1,21):\n",
    "    if (i % 2) == 0:\n",
    "        print(i)"
   ]
  },
  {
   "cell_type": "markdown",
   "metadata": {},
   "source": [
    "<a id = 'sec6'></a>\n",
    "\n",
    "## 6. Function"
   ]
  },
  {
   "cell_type": "markdown",
   "metadata": {},
   "source": [
    "### 6.1) Define the python function to check whether the number 33 is even or odd"
   ]
  },
  {
   "cell_type": "code",
   "execution_count": 20,
   "metadata": {},
   "outputs": [],
   "source": [
    "# 1- Defind the function called checkEvenOdd\n",
    "def checkEvenOdd(num):\n",
    "    \n",
    "    # Check if the number is odd or even\n",
    "    if (num % 2) == 0:\n",
    "        print(\"The number is EVEN\")\n",
    "    else:\n",
    "        print(\"The number is ODD\")"
   ]
  },
  {
   "cell_type": "code",
   "execution_count": 21,
   "metadata": {},
   "outputs": [
    {
     "name": "stdout",
     "output_type": "stream",
     "text": [
      "4\n",
      "The number is EVEN\n",
      "\n",
      "7\n",
      "The number is ODD\n"
     ]
    }
   ],
   "source": [
    "# 2- Test the function (checkEvenOdd)\n",
    "\n",
    "#Example 1\n",
    "num1 = 4 \n",
    "print(num1)\n",
    "checkEvenOdd(num1)\n",
    "\n",
    "print(\"\")\n",
    "\n",
    "#Example 2\n",
    "num2 = 7\n",
    "print(num2)\n",
    "checkEvenOdd(num2)"
   ]
  },
  {
   "cell_type": "markdown",
   "metadata": {},
   "source": [
    "### 6.2)Write the python program to get the unique values from the given list"
   ]
  },
  {
   "cell_type": "code",
   "execution_count": 22,
   "metadata": {},
   "outputs": [],
   "source": [
    "# 1- Defind the function called uniqueValues\n",
    "def uniqueValues(list1):\n",
    "    \n",
    "    # Create unique_list\n",
    "    unique_list = []\n",
    "    \n",
    "    # Traverse for all elements in list1\n",
    "    for i in list1:\n",
    "        \n",
    "        # Check if elements in list1, is not in unique_list.\n",
    "        if i not in unique_list:\n",
    "            # Append elements of list1 in unique_list\n",
    "            unique_list.append(i)\n",
    "            \n",
    "    # print element of the unique_list\n",
    "    #for i in unique_list:\n",
    "    print (unique_list)"
   ]
  },
  {
   "cell_type": "code",
   "execution_count": 23,
   "metadata": {},
   "outputs": [
    {
     "name": "stdout",
     "output_type": "stream",
     "text": [
      "list 1:  [1, 2, 3, 2, 3, 7, 8, 7]\n",
      "The unique elements from 1st list are: \n",
      "[1, 2, 3, 7, 8]\n",
      "\n",
      "list 2:  ['Razan', 'Lena', 'Alaa', 'Razan', 'Lena', 'Alaa']\n",
      "The unique elements from 3st list are: \n",
      "['Razan', 'Lena', 'Alaa']\n"
     ]
    }
   ],
   "source": [
    "# 2- Test the function (uniqueValues)\n",
    "\n",
    "#Example1 \n",
    "list1 = [1, 2, 3, 2, 3, 7, 8, 7]\n",
    "print(\"list 1: \", list1)\n",
    "print(\"The unique elements from 1st list are: \")\n",
    "uniqueValues(list1)\n",
    "\n",
    "print(\"\")\n",
    "\n",
    "#Example2 \n",
    "list2 = [\"Razan\", \"Lena\", \"Alaa\", \"Razan\", \"Lena\", \"Alaa\"]\n",
    "print(\"list 2: \", list2)\n",
    "print(\"The unique elements from 3st list are: \")\n",
    "uniqueValues(list2)"
   ]
  },
  {
   "cell_type": "markdown",
   "metadata": {},
   "source": [
    "## Keep Learning!"
   ]
  }
 ],
 "metadata": {
  "kernelspec": {
   "display_name": "Python 3 (ipykernel)",
   "language": "python",
   "name": "python3"
  },
  "language_info": {
   "codemirror_mode": {
    "name": "ipython",
    "version": 3
   },
   "file_extension": ".py",
   "mimetype": "text/x-python",
   "name": "python",
   "nbconvert_exporter": "python",
   "pygments_lexer": "ipython3",
   "version": "3.9.7"
  },
  "toc": {
   "base_numbering": 1,
   "nav_menu": {},
   "number_sections": true,
   "sideBar": true,
   "skip_h1_title": false,
   "title_cell": "Table of Contents",
   "title_sidebar": "Contents",
   "toc_cell": false,
   "toc_position": {},
   "toc_section_display": true,
   "toc_window_display": false
  }
 },
 "nbformat": 4,
 "nbformat_minor": 4
}
